{
 "cells": [
  {
   "cell_type": "markdown",
   "metadata": {},
   "source": [
    "Bedah text book Taleb"
   ]
  },
  {
   "cell_type": "code",
   "execution_count": null,
   "metadata": {},
   "outputs": [],
   "source": [
    "# !pip install matplotlib scipy numpy"
   ]
  },
  {
   "cell_type": "markdown",
   "metadata": {},
   "source": [
    "### Fat-tailed and Thin-tailed Distribution:"
   ]
  },
  {
   "cell_type": "code",
   "execution_count": 8,
   "metadata": {},
   "outputs": [
    {
     "data": {
      "image/png": "[encoded data removed]",
      "text/plain": [
       "<Figure size 1000x500 with 2 Axes>"
      ]
     },
     "metadata": {},
     "output_type": "display_data"
    }
   ],
   "source": [
    "import numpy as np\n",
    "import matplotlib.pyplot as plt\n",
    "\n",
    "# Generate data for fat-tailed distribution (e.g., power-law distribution)\n",
    "fat_tail_data = np.random.zipf(2, 1000)  # Zipf distribution with parameter 2\n",
    "\n",
    "# Generate data for thin-tailed distribution (e.g., normal distribution)\n",
    "thin_tail_data = np.random.normal(0, 1, 1000)  # Normal distribution with mean 0 and standard deviation 1\n",
    "\n",
    "# Create histogram\n",
    "plt.figure(figsize=(10, 5))\n",
    "\n",
    "# Fat-tailed distribution\n",
    "plt.subplot(1, 2, 1)\n",
    "plt.hist(fat_tail_data, bins=50, color='blue', alpha=0.7)\n",
    "plt.title('Fat-tailed Distribution')\n",
    "\n",
    "# Thin-tailed distribution\n",
    "plt.subplot(1, 2, 2)\n",
    "plt.hist(thin_tail_data, bins=50, color='green', alpha=0.7)\n",
    "plt.title('Thin-tailed Distribution')\n",
    "\n",
    "plt.tight_layout()\n",
    "plt.show()\n"
   ]
  },
  {
   "cell_type": "markdown",
   "metadata": {},
   "source": [
    "### Weak Law of Large Numbers (WLLN):\n",
    "\n",
    "\n",
    "$$\n",
    "\\lim_{n \\to \\infty} \\text{Pr} \\left( \\left| \\frac{X_1 + X_2 + \\ldots + X_n}{n} - \\mu \\right| \\geq \\varepsilon \\right) = 0\n",
    "$$\n",
    "\n",
    "\n",
    "### Strong Law of Large Numbers (SLLN):\n",
    "\n",
    "$$\n",
    "\\text{Pr} \\left( \\lim_{n \\to \\infty} \\frac{X_1 + X_2 + \\ldots + X_n}{n} = \\mu \\right) = 1\n",
    "$$"
   ]
  },
  {
   "cell_type": "markdown",
   "metadata": {},
   "source": [
    "### Central Limit Theorem (CLT)\n",
    "\n",
    "The Central Limit Theorem (CLT) states that if you have a sufficiently large sample size $n$ drawn from any population with a finite mean $\\mu$ and a finite variance $\\sigma^2$, then the distribution of the sample mean $\\bar{X} $ will be approximately normally distributed, regardless of the shape of the original population distribution. \n",
    "\n",
    "The CLT can be mathematically expressed as:\n",
    "\n",
    "$$\n",
    "\\lim_{{n \\to \\infty}} \\left( \\frac{{\\bar{X} - \\mu}}{{\\frac{{\\sigma}}{{\\sqrt{n}}}}} \\right) \\sim \\mathcal{N}(0,1)\n",
    "$$\n",
    "\n",
    "where:\n",
    "- $\\bar{X} $ is the sample mean,\n",
    "- $\\mu $ is the population mean,\n",
    "- $\\sigma $ is the population standard deviation,\n",
    "- $ n $ is the sample size,\n",
    "- $\\mathcal{N}(0,1) $ represents the standard normal distribution.\n",
    "\n",
    "This theorem is fundamental in statistics as it allows us to make inferences about population parameters based on sample statistics, assuming certain conditions are met."
   ]
  },
  {
   "cell_type": "markdown",
   "metadata": {},
   "source": [
    "### Power Law\n",
    "\n",
    "A power law is a functional relationship between two quantities, where one quantity varies as a power of another. Mathematically, a power law can be represented as:\n",
    "\n",
    "$ y = kx^a $\n",
    "\n",
    "Where:\n",
    "- $ y $ and $ x $ are variables,\n",
    "- $ k $ is a constant coefficient,\n",
    "- $ a $ is the exponent which determines the degree of the power law relationship.\n",
    "\n",
    "Power laws are prevalent in various fields including physics, economics, biology, and social sciences. They often describe phenomena where small occurrences are common and large occurrences are rare. \n",
    "\n",
    "Some examples of power laws include:\n",
    "\n",
    "1. **Pareto Principle (80-20 rule)**: In economics and business, the Pareto Principle suggests that roughly 80% of the effects come from 20% of the causes. This principle is often observed in wealth distribution, where a small percentage of the population holds the majority of the wealth.\n",
    "\n",
    "2. **Zipf's Law**: This law describes the frequency of words in natural languages. It states that the frequency of any word is inversely proportional to its rank in the frequency table. In other words, the second most frequent word occurs about half as often as the first, the third most frequent word occurs about a third as often as the first, and so on.\n",
    "\n",
    "3. **Size of Cities**: In urban studies, the distribution of city sizes often follows a power law distribution known as Zipf's Law. The population of cities tends to follow a power-law distribution, with a few large cities and many small ones.\n",
    "\n",
    "4. **Earthquake Magnitudes**: The frequency of earthquakes of different magnitudes also follows a power-law distribution known as the Gutenberg-Richter Law. It states that the frequency of earthquakes decreases as the magnitude increases, following a logarithmic relationship.\n",
    "\n",
    "Power laws are essential in understanding complex systems and have implications in modeling and predicting various phenomena in nature and society."
   ]
  },
  {
   "cell_type": "code",
   "execution_count": null,
   "metadata": {},
   "outputs": [],
   "source": []
  },
  {
   "cell_type": "markdown",
   "metadata": {},
   "source": []
  }
 ],
 "metadata": {
  "kernelspec": {
   "display_name": "base",
   "language": "python",
   "name": "python3"
  },
  "language_info": {
   "codemirror_mode": {
    "name": "ipython",
    "version": 3
   },
   "file_extension": ".py",
   "mimetype": "text/x-python",
   "name": "python",
   "nbconvert_exporter": "python",
   "pygments_lexer": "ipython3",
   "version": "3.12.2"
  }
 },
 "nbformat": 4,
 "nbformat_minor": 2
}
