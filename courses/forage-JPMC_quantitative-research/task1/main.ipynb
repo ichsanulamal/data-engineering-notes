{
 "cells": [
  {
   "cell_type": "code",
   "execution_count": null,
   "metadata": {},
   "outputs": [],
   "source": [
    "import pandas as pd\n",
    "from datetime import datetime, timedelta\n",
    "import matplotlib.pyplot as plt\n",
    "from sklearn.linear_model import LinearRegression"
   ]
  },
  {
   "cell_type": "code",
   "execution_count": null,
   "metadata": {},
   "outputs": [],
   "source": [
    "data = pd.read_csv('./../data/Loan_data.csv')\n",
    "\n",
    "# Convert 'Dates' column to datetime format\n",
    "data['Dates'] = pd.to_datetime(data['Dates'], format='%m/%d/%y')\n",
    "\n",
    "# Sort data by date\n",
    "data = data.sort_values(by='Dates')"
   ]
  },
  {
   "cell_type": "code",
   "execution_count": null,
   "metadata": {},
   "outputs": [],
   "source": [
    "# Visualize the data\n",
    "plt.figure(figsize=(10, 6))\n",
    "plt.plot(data['Dates'], data['Prices'], marker='o', linestyle='-')\n",
    "plt.title('Natural Gas Prices Over Time')\n",
    "plt.xlabel('Date')\n",
    "plt.ylabel('Price')\n",
    "plt.grid(True)\n",
    "plt.show()"
   ]
  },
  {
   "cell_type": "code",
   "execution_count": null,
   "metadata": {},
   "outputs": [],
   "source": [
    "def estimate_price_for_date(date):\n",
    "    # Fit a linear regression model\n",
    "    X = data['Dates'].apply(lambda x: x.timestamp()).values.reshape(-1, 1)\n",
    "    y = data['Prices'].values.reshape(-1, 1)\n",
    "    model = LinearRegression()\n",
    "    model.fit(X, y)\n",
    "    \n",
    "    # Convert input date to timestamp\n",
    "    date_timestamp = datetime.timestamp(date)\n",
    "    \n",
    "    # Predict price for the given date and extrapolate for one year into the future\n",
    "    future_date_timestamp = date_timestamp + 365 * 24 * 60 * 60  # Add one year in seconds\n",
    "    price_estimate = model.predict([[date_timestamp], [future_date_timestamp]])\n",
    "    \n",
    "    return price_estimate[0][0], price_estimate[1][0]"
   ]
  },
  {
   "cell_type": "code",
   "execution_count": null,
   "metadata": {},
   "outputs": [],
   "source": [
    "# Example usage\n",
    "input_date = datetime.strptime('2023-05-15', '%Y-%m-%d')\n",
    "estimated_price, extrapolated_price = estimate_price_for_date(input_date)\n",
    "print(f\"Estimated price for {input_date.date()}: {estimated_price}\")\n",
    "print(f\"Extrapolated price for one year ahead: {extrapolated_price}\")"
   ]
  }
 ],
 "metadata": {
  "kernelspec": {
   "display_name": "base",
   "language": "python",
   "name": "python3"
  },
  "language_info": {
   "codemirror_mode": {
    "name": "ipython",
    "version": 3
   },
   "file_extension": ".py",
   "mimetype": "text/x-python",
   "name": "python",
   "nbconvert_exporter": "python",
   "pygments_lexer": "ipython3",
   "version": "3.11.5"
  }
 },
 "nbformat": 4,
 "nbformat_minor": 2
}
