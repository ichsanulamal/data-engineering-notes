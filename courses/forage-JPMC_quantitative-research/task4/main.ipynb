{
 "cells": [
  {
   "cell_type": "code",
   "execution_count": 1,
   "metadata": {},
   "outputs": [],
   "source": [
    "import pandas as pd\n",
    "from scipy.optimize import minimize\n",
    "import numpy as np\n",
    "\n",
    "# Load the sample data\n",
    "data = '../data/Loan_Data.csv'\n",
    "\n",
    "df = pd.read_csv(data)"
   ]
  },
  {
   "cell_type": "code",
   "execution_count": 4,
   "metadata": {},
   "outputs": [
    {
     "name": "stderr",
     "output_type": "stream",
     "text": [
      "C:\\Users\\mal\\AppData\\Local\\Temp\\ipykernel_7672\\3764906271.py:20: RuntimeWarning: invalid value encountered in log\n",
      "  log_likelihood = np.sum(ki * np.log(pi / (1 - pi)))\n"
     ]
    },
    {
     "name": "stdout",
     "output_type": "stream",
     "text": [
      "Mean Squared Error Optimal Boundaries: [846.74226842 864.16909573 877.76493106 875.95738459]\n",
      "Log-Likelihood Optimal Boundaries: [496.4 584.8 673.2 761.6]\n"
     ]
    }
   ],
   "source": [
    "# Sort the DataFrame by FICO score\n",
    "df.sort_values('fico_score', inplace=True)\n",
    "\n",
    "# Define the number of buckets\n",
    "num_buckets = 5\n",
    "\n",
    "# Function to calculate mean squared error\n",
    "def mean_squared_error(boundaries, data):\n",
    "    buckets = np.digitize(data, np.sort(boundaries))\n",
    "    bucket_means = [np.mean(data[buckets == i]) for i in range(1, num_buckets + 1)]\n",
    "    mse = np.mean((data - np.array(bucket_means)[buckets - 1])**2)\n",
    "    return mse\n",
    "\n",
    "# Function to calculate log-likelihood\n",
    "def log_likelihood(boundaries, data, labels):\n",
    "    buckets = np.digitize(data, np.sort(boundaries))\n",
    "    ni = np.bincount(buckets)[1:]\n",
    "    ki = np.bincount(labels, weights=np.ones(len(labels)))[1:]\n",
    "    pi = ki / ni\n",
    "    log_likelihood = np.sum(ki * np.log(pi / (1 - pi)))\n",
    "    return -log_likelihood\n",
    "\n",
    "# Initial guess for boundaries\n",
    "initial_boundaries = np.linspace(df['fico_score'].min(), df['fico_score'].max(), num_buckets + 1)[1:-1]\n",
    "\n",
    "# Optimize for mean squared error\n",
    "result_mse = minimize(mean_squared_error, initial_boundaries, args=(df['fico_score'],), method='Nelder-Mead')\n",
    "\n",
    "# Optimize for log-likelihood\n",
    "labels = df['default']\n",
    "result_ll = minimize(log_likelihood, initial_boundaries, args=(df['fico_score'], labels), method='Nelder-Mead')\n",
    "\n",
    "# Print the results\n",
    "print(\"Mean Squared Error Optimal Boundaries:\", result_mse.x)\n",
    "print(\"Log-Likelihood Optimal Boundaries:\", result_ll.x)"
   ]
  }
 ],
 "metadata": {
  "kernelspec": {
   "display_name": "base",
   "language": "python",
   "name": "python3"
  },
  "language_info": {
   "codemirror_mode": {
    "name": "ipython",
    "version": 3
   },
   "file_extension": ".py",
   "mimetype": "text/x-python",
   "name": "python",
   "nbconvert_exporter": "python",
   "pygments_lexer": "ipython3",
   "version": "3.11.5"
  }
 },
 "nbformat": 4,
 "nbformat_minor": 2
}
