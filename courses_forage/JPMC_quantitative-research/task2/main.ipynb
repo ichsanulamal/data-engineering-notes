{
 "cells": [
  {
   "cell_type": "code",
   "execution_count": 1,
   "metadata": {},
   "outputs": [
    {
     "name": "stdout",
     "output_type": "stream",
     "text": [
      "The value of the contract is: 851.0\n"
     ]
    }
   ],
   "source": [
    "import pandas as pd\n",
    "\n",
    "# Sample data\n",
    "data = {\n",
    "    'Dates': ['10/31/2020', '11/30/2020', '12/31/2020', '1/31/2021', '2/28/2021'],\n",
    "    'Prices': [1.01E+01, 1.03E+01, 1.10E+01, 1.09E+01, 1.09E+01]\n",
    "}\n",
    "\n",
    "df = pd.DataFrame(data)\n",
    "\n",
    "# Function to calculate contract value\n",
    "def calculate_contract_value(injection_dates, withdrawal_dates, purchase_prices, sale_prices,\n",
    "                             injection_rate, withdrawal_rate, max_volume, storage_cost):\n",
    "    total_value = 0.0\n",
    "    \n",
    "    for i in range(len(injection_dates)):\n",
    "        injection_date = injection_dates[i]\n",
    "        withdrawal_date = withdrawal_dates[i]\n",
    "        purchase_price = purchase_prices[i]\n",
    "        sale_price = sale_prices[i]\n",
    "        \n",
    "        # Calculate the amount injected and withdrawn\n",
    "        injected_volume = injection_rate * (withdrawal_date - injection_date).days\n",
    "        withdrawn_volume = withdrawal_rate * (withdrawal_date - injection_date).days\n",
    "        \n",
    "        # Check if volumes exceed maximum storage capacity\n",
    "        if injected_volume > max_volume:\n",
    "            injected_volume = max_volume\n",
    "        if withdrawn_volume > max_volume:\n",
    "            withdrawn_volume = max_volume\n",
    "        \n",
    "        # Calculate the cash flows for injection and withdrawal\n",
    "        injection_cash_flow = -1 * injected_volume * purchase_price\n",
    "        withdrawal_cash_flow = withdrawn_volume * sale_price\n",
    "        \n",
    "        # Calculate storage cost\n",
    "        storage_cash_flow = storage_cost * max_volume * (withdrawal_date - injection_date).days\n",
    "        \n",
    "        # Calculate total value\n",
    "        total_value += (injection_cash_flow + withdrawal_cash_flow + storage_cash_flow)\n",
    "    \n",
    "    return total_value\n",
    "\n",
    "# Example inputs\n",
    "injection_dates = pd.to_datetime(['2020-10-31', '2020-12-31'])\n",
    "withdrawal_dates = pd.to_datetime(['2021-01-31', '2021-02-28'])\n",
    "purchase_prices = [1.01E+01, 1.10E+01]\n",
    "sale_prices = [1.09E+01, 1.09E+01]\n",
    "injection_rate = 100  # Assume injection rate in units/day\n",
    "withdrawal_rate = 90  # Assume withdrawal rate in units/day\n",
    "max_volume = 1000  # Maximum volume that can be stored\n",
    "storage_cost = 0.001  # Storage cost per unit volume per day\n",
    "\n",
    "# Calculate contract value\n",
    "contract_value = calculate_contract_value(injection_dates, withdrawal_dates, purchase_prices, sale_prices,\n",
    "                                         injection_rate, withdrawal_rate, max_volume, storage_cost)\n",
    "\n",
    "print(f\"The value of the contract is: {contract_value}\")\n"
   ]
  }
 ],
 "metadata": {
  "kernelspec": {
   "display_name": "base",
   "language": "python",
   "name": "python3"
  },
  "language_info": {
   "codemirror_mode": {
    "name": "ipython",
    "version": 3
   },
   "file_extension": ".py",
   "mimetype": "text/x-python",
   "name": "python",
   "nbconvert_exporter": "python",
   "pygments_lexer": "ipython3",
   "version": "3.11.5"
  }
 },
 "nbformat": 4,
 "nbformat_minor": 2
}
