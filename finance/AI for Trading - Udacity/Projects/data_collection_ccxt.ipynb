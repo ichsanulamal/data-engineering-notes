{
 "cells": [
  {
   "cell_type": "markdown",
   "metadata": {},
   "source": [
    "## Top 100 market cap - coingecko"
   ]
  },
  {
   "cell_type": "code",
   "execution_count": null,
   "metadata": {},
   "outputs": [],
   "source": [
    "import requests\n",
    "import pandas as pd\n",
    "import json"
   ]
  },
  {
   "cell_type": "code",
   "execution_count": null,
   "metadata": {},
   "outputs": [],
   "source": [
    "\n",
    "\n",
    "url = \"https://api.coingecko.com/api/v3/coins/markets?vs_currency=usd\"\n",
    "response = requests.get(url)\n",
    "\n",
    "data = json.loads(response.content)\n",
    "top100 = pd.DataFrame(data)"
   ]
  },
  {
   "cell_type": "code",
   "execution_count": null,
   "metadata": {},
   "outputs": [],
   "source": [
    "top100.to_csv('top_100_cmc.csv')"
   ]
  },
  {
   "cell_type": "code",
   "execution_count": null,
   "metadata": {},
   "outputs": [],
   "source": [
    "top100 = pd.read_csv('top_100_cmc.csv')"
   ]
  },
  {
   "cell_type": "markdown",
   "metadata": {},
   "source": [
    "## ccxt - binance"
   ]
  },
  {
   "cell_type": "code",
   "execution_count": null,
   "metadata": {},
   "outputs": [],
   "source": [
    "import pandas as pd\n",
    "import numpy as np\n",
    "import matplotlib.pyplot as plt\n",
    "import ccxt"
   ]
  },
  {
   "cell_type": "code",
   "execution_count": null,
   "metadata": {},
   "outputs": [],
   "source": [
    "import ccxt\n",
    "import pandas as pd\n",
    "from datetime import datetime, timedelta\n",
    "\n",
    "ex = ccxt.binance()\n",
    "ex.options['maxRetriesOnFailureDelay'] = 1000\n",
    "\n",
    "# Define the time range\n",
    "start_date = '2017-08-17 00:00:00'\n",
    "start_ts = ex.parse8601(start_date)\n",
    "end_date = datetime.now().isoformat()\n",
    "end_ts = ex.parse8601(end_date)\n",
    "\n",
    "\n",
    "# Function to fetch OHLCV data in batches\n",
    "def fetch_ohlcv_in_batches(exchange, symbol, timeframe, since, limit):\n",
    "    all_ohlcv = []\n",
    "    while since < end_ts:\n",
    "        ohlcv = exchange.fetch_ohlcv(symbol, timeframe, since=since, limit=limit)\n",
    "        if not ohlcv:\n",
    "            break\n",
    "        all_ohlcv.extend(ohlcv)\n",
    "        since = ohlcv[-1][0] + 1  # Increment since to the last timestamp + 1\n",
    "\n",
    "        \n",
    "    return all_ohlcv\n",
    "\n",
    "def ohlcv_to_df(ohlcv):\n",
    "    df = pd.DataFrame(ohlcv, columns=['timestamp', 'open', 'high', 'low', 'close', 'volume'])\n",
    "    df['timestamp'] = pd.to_datetime(df['timestamp'], unit='ms')\n",
    "    df.set_index('timestamp', inplace=True)\n",
    "    return df\n",
    "\n",
    "# Fetch data\n",
    "# ohlcv = ohlcv_to_df(fetch_ohlcv_in_batches(ex, 'BTC/USDT', '1d', start_ts, 1000))\n",
    "# ohlcv.to_csv('btc.csv')"
   ]
  },
  {
   "cell_type": "code",
   "execution_count": null,
   "metadata": {},
   "outputs": [],
   "source": [
    "ohlcvs = {}\n",
    "\n",
    "for sym in list(top100['symbol']):\n",
    "        print(f'fetching {sym}')\n",
    "        try:\n",
    "            ohlcv_df = ohlcv_to_df(fetch_ohlcv_in_batches(ex, f'{sym.upper()}/USDT', '1d', start_ts, 1000)) \n",
    "        except Exception as e:\n",
    "            print(f\"An unexpected error occurred: {sym} - {e}\")\n",
    "\n",
    "        ohlcvs[sym] = ohlcv_df\n",
    "         "
   ]
  },
  {
   "cell_type": "markdown",
   "metadata": {},
   "source": [
    "## Save & Import data"
   ]
  },
  {
   "cell_type": "code",
   "execution_count": null,
   "metadata": {},
   "outputs": [],
   "source": [
    "import pickle\n",
    "\n",
    "def save_dict_to_pickle(data_dict, filename):\n",
    "    \"\"\"\n",
    "    Save a dictionary with DataFrame values to a pickle file.\n",
    "    \n",
    "    Parameters\n",
    "    ----------\n",
    "    data_dict : dict\n",
    "        Dictionary with string keys and DataFrame values.\n",
    "    filename : str\n",
    "        The path to the file where the data will be saved.\n",
    "    \"\"\"\n",
    "    with open(filename, 'wb') as f:\n",
    "        pickle.dump(data_dict, f)\n",
    "\n",
    "save_dict_to_pickle(ohlcvs, 'input.pkl')\n"
   ]
  },
  {
   "cell_type": "code",
   "execution_count": null,
   "metadata": {},
   "outputs": [],
   "source": [
    "import pickle\n",
    "\n",
    "def load_dict_from_pickle(filename):\n",
    "    \"\"\"\n",
    "    Load a dictionary with DataFrame values from a pickle file.\n",
    "    \n",
    "    Parameters\n",
    "    ----------\n",
    "    filename : str\n",
    "        The path to the file from which the data will be loaded.\n",
    "    \n",
    "    Returns\n",
    "    -------\n",
    "    data_dict : dict\n",
    "        Dictionary with string keys and DataFrame values.\n",
    "    \"\"\"\n",
    "    with open(filename, 'rb') as f:\n",
    "        data_dict = pickle.load(f)\n",
    "    return data_dict\n",
    "\n",
    "# Example usage\n",
    "ohlcvs = load_dict_from_pickle('input.pkl')\n",
    "# print(ohlcvs)"
   ]
  },
  {
   "cell_type": "markdown",
   "metadata": {},
   "source": [
    "### Remove irrelevant token"
   ]
  },
  {
   "cell_type": "code",
   "execution_count": null,
   "metadata": {},
   "outputs": [],
   "source": [
    "for k in list(ohlcvs.keys()):\n",
    "    if k in ['steth',\n",
    "            'weeth',\n",
    "            'ezeth',\n",
    "            'reth',\n",
    "            'meth',\n",
    "            'eeth',\n",
    "            'rseth']:\n",
    "        del ohlcvs[k]\n",
    "\n",
    "    if 'usd' in k:\n",
    "        del ohlcvs[k]\n"
   ]
  },
  {
   "cell_type": "markdown",
   "metadata": {},
   "source": [
    "## Visualize "
   ]
  },
  {
   "cell_type": "markdown",
   "metadata": {},
   "source": [
    "### MPF"
   ]
  },
  {
   "cell_type": "code",
   "execution_count": null,
   "metadata": {},
   "outputs": [],
   "source": [
    "import mplfinance as mpf\n",
    "mpf.plot(ohlcvs['sol'], type='line', volume=True, style='yahoo')\n",
    "plt.show()"
   ]
  },
  {
   "cell_type": "markdown",
   "metadata": {},
   "source": [
    "### Plotly"
   ]
  },
  {
   "cell_type": "code",
   "execution_count": null,
   "metadata": {},
   "outputs": [],
   "source": [
    "import plotly.graph_objects as go\n",
    "\n",
    "fig = go.Figure(data=[go.Candlestick(x=ohlcvs['eth'].index,\n",
    "                open=ohlcvs['eth'].open, high=ohlcvs['eth'].high,\n",
    "                low=ohlcvs['eth'].low, close=ohlcvs['eth'].close)])\n",
    "\n",
    "fig.update_layout(title='OHLCV Data',\n",
    "                   xaxis_title='Date',\n",
    "                   yaxis_title='Price',\n",
    "                   xaxis_rangeslider_visible=False)\n",
    "\n",
    "fig.show()"
   ]
  }
 ],
 "metadata": {
  "kernelspec": {
   "display_name": "base",
   "language": "python",
   "name": "python3"
  },
  "language_info": {
   "codemirror_mode": {
    "name": "ipython",
    "version": 3
   },
   "file_extension": ".py",
   "mimetype": "text/x-python",
   "name": "python",
   "nbconvert_exporter": "python",
   "pygments_lexer": "ipython3",
   "version": "3.12.4"
  }
 },
 "nbformat": 4,
 "nbformat_minor": 2
}
