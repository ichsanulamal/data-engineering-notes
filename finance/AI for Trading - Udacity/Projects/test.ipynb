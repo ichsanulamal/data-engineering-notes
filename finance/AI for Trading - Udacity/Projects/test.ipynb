{
 "cells": [
  {
   "cell_type": "markdown",
   "metadata": {},
   "source": [
    "# kalman"
   ]
  },
  {
   "cell_type": "code",
   "execution_count": null,
   "metadata": {},
   "outputs": [],
   "source": [
    "import yfinance as yf\n",
    "import numpy as np\n",
    "import matplotlib.pyplot as plt\n",
    "\n",
    "# Fetch historical stock data for Apple Inc. (AAPL)\n",
    "ticker = \"AAPL\"\n",
    "data = yf.download(ticker, start=\"2022-01-01\", end=\"2023-01-01\")\n",
    "closing_prices = data['close'].values"
   ]
  },
  {
   "cell_type": "code",
   "execution_count": null,
   "metadata": {},
   "outputs": [],
   "source": [
    "# Kalman Filter implementation\n",
    "n_timesteps = len(closing_prices)\n",
    "dt = 1.0  # time step\n",
    "A = np.array([[1, dt], [0, 1]])\n",
    "H = np.array([[1, 0]])\n",
    "Q = np.array([[1, 0], [0, 1]])  # process noise covariance\n",
    "R = np.array([[10]])  # measurement noise covariance\n",
    "x = np.zeros((2, n_timesteps))  # state vector [price, drift]\n",
    "P = np.zeros((2, 2, n_timesteps))  # error covariance\n",
    "filtered_price = np.zeros(n_timesteps)  # filtered prices"
   ]
  },
  {
   "cell_type": "code",
   "execution_count": null,
   "metadata": {},
   "outputs": [],
   "source": [
    "# Initial estimates\n",
    "x[:, 0] = [closing_prices[0], 0]  # initial state estimate\n",
    "P[:, :, 0] = np.eye(2) * 1000  # initial error covariance\n",
    "\n",
    "for t in range(1, n_timesteps):\n",
    "    # Prediction\n",
    "    x[:, t] = A @ x[:, t-1]\n",
    "    P[:, :, t] = A @ P[:, :, t-1] @ A.T + Q\n",
    "    \n",
    "    # Update\n",
    "    K = P[:, :, t] @ H.T @ np.linalg.inv(H @ P[:, :, t] @ H.T + R)\n",
    "    x[:, t] = x[:, t] + K @ (closing_prices[t] - H @ x[:, t])\n",
    "    P[:, :, t] = (np.eye(2) - K @ H) @ P[:, :, t]\n",
    "    \n",
    "    # Store the filtered price\n",
    "    filtered_price[t] = x[0, t]\n",
    "\n",
    "# Plotting results\n",
    "plt.figure(figsize=(14, 7))\n",
    "plt.plot(closing_prices, label='Observed Prices')\n",
    "plt.plot(filtered_price, label='Filtered Prices', linestyle='dashed')\n",
    "plt.title(f'{ticker} Stock Prices: Observed vs. Filtered')\n",
    "plt.xlabel('Time')\n",
    "plt.ylabel('Price')\n",
    "plt.legend()\n",
    "plt.show()"
   ]
  },
  {
   "cell_type": "markdown",
   "metadata": {},
   "source": [
    "# smc"
   ]
  },
  {
   "cell_type": "markdown",
   "metadata": {},
   "source": [
    "Yes, Python can be used to implement Smart Money Concepts (SMC) trading strategies. Python is a versatile programming language with a rich ecosystem of libraries and tools for data analysis, financial modeling, and algorithmic trading. Here's how you can use Python to apply SMC trading strategies:\n",
    "\n",
    "### Key Libraries and Tools\n",
    "\n",
    "1. **Pandas**: For data manipulation and analysis.\n",
    "2. **NumPy**: For numerical operations.\n",
    "3. **Matplotlib/Plotly**: For data visualization.\n",
    "4. **TA-Lib**: For technical analysis indicators.\n",
    "5. **ccxt**: For accessing cryptocurrency exchange APIs.\n",
    "6. **yfinance**: For accessing historical stock market data.\n",
    "7. **Scikit-learn**: For machine learning (if needed).\n",
    "8. **Backtrader**: For backtesting trading strategies.\n",
    "\n",
    "### Workflow for Implementing SMC Trading in Python\n",
    "\n",
    "1. **Data Collection**:\n",
    "   - Use `ccxt` or `yfinance` to fetch historical market data.\n",
    "\n",
    "2. **Market Structure Analysis**:\n",
    "   - Identify swing highs and lows to understand market phases.\n",
    "\n",
    "3. **Order Block Identification**:\n",
    "   - Identify potential order blocks by finding significant price levels where large moves originated.\n",
    "\n",
    "4. **Liquidity Pool Detection**:\n",
    "   - Identify areas of liquidity by finding clusters of stop-loss orders.\n",
    "\n",
    "5. **Break of Structure (BOS) and Fair Value Gap (FVG) Detection**:\n",
    "   - Detect breaks in market structure and gaps in price movements.\n",
    "\n",
    "6. **Visualization**:\n",
    "   - Visualize the data to identify patterns and confirm signals.\n",
    "\n",
    "7. **Backtesting**:\n",
    "   - Use `Backtrader` to backtest the strategy."
   ]
  },
  {
   "cell_type": "code",
   "execution_count": null,
   "metadata": {},
   "outputs": [],
   "source": [
    "import pandas as pd\n",
    "\n",
    "data = pd.read_csv('eth.csv', index_col='timestamp')\n",
    "data"
   ]
  },
  {
   "cell_type": "code",
   "execution_count": null,
   "metadata": {},
   "outputs": [],
   "source": [
    "def identify_swings(data, window=1):\n",
    "         data['Swing_high'] = data['high'][(data['high'].shift(window) < data['high']) & (data['high'].shift(-window) < data['high'])]\n",
    "         data['Swing_low'] = data['low'][(data['low'].shift(window) > data['low']) & (data['low'].shift(-window) > data['low'])]\n",
    "         return data\n",
    "\n",
    "identify_swings(data)"
   ]
  },
  {
   "cell_type": "code",
   "execution_count": null,
   "metadata": {},
   "outputs": [],
   "source": [
    "def find_order_blocks(data, threshold=0.01):\n",
    "         data['Order_Block'] = (data['close'].pct_change().abs() > threshold)\n",
    "         return data\n",
    "\n",
    "find_order_blocks(data)"
   ]
  },
  {
   "cell_type": "code",
   "execution_count": null,
   "metadata": {},
   "outputs": [],
   "source": [
    "def identify_liquidity_pools(data):\n",
    "         # Simple method: mark previous highs/lows as liquidity pools\n",
    "         data['Liquidity_Pool_low'] = data['low'].rolling(window=20).min()\n",
    "         data['Liquidity_Pool_high'] = data['high'].rolling(window=20).max()\n",
    "         data['Liquidity_Pool'] = data['high'].rolling(window=20).max() - data['low'].rolling(window=20).min()\n",
    "         return data\n",
    "\n",
    "identify_liquidity_pools(data)"
   ]
  },
  {
   "cell_type": "code",
   "execution_count": null,
   "metadata": {},
   "outputs": [],
   "source": [
    "def detect_bos(data):\n",
    "    data['BOS'] = (data['close'] > data['high'].shift(1)) | (data['close'] < data['low'].shift(1))\n",
    "    return data\n",
    "\n",
    "def detect_fvg(data):\n",
    "    data['FVG'] = (data['high'].shift(1) - data['low']) > 0\n",
    "    return data\n",
    "\n",
    "detect_bos(data)\n",
    "\n",
    "detect_fvg(data)\n"
   ]
  },
  {
   "cell_type": "code",
   "execution_count": null,
   "metadata": {},
   "outputs": [],
   "source": [
    "import plotly.graph_objects as go\n",
    "from plotly.subplots import make_subplots\n",
    "\n",
    "# Initialize figure\n",
    "fig = make_subplots(rows=1, cols=1)\n",
    "\n",
    "# Add candlestick chart\n",
    "fig.add_trace(go.Candlestick(x=data.index,\n",
    "                             open=data['open'],\n",
    "                             high=data['high'],\n",
    "                             low=data['low'],\n",
    "                             close=data['close'],\n",
    "                             name='Candlestick'))\n",
    "\n",
    "# Add swing highs and lows\n",
    "fig.add_trace(go.Scatter(x=data.index, y=data['Swing_high'],\n",
    "                         mode='markers',\n",
    "                         marker=dict(color='red', symbol='triangle-up', size=10),\n",
    "                         name='Swing high'))\n",
    "\n",
    "fig.add_trace(go.Scatter(x=data.index, y=data['Swing_low'],\n",
    "                         mode='markers',\n",
    "                         marker=dict(color='green', symbol='triangle-down', size=10),\n",
    "                         name='Swing low'))\n",
    "\n",
    "# Customize layout\n",
    "fig.update_layout(title='Market Data with Swing highs and lows',\n",
    "                  xaxis_title='Date',\n",
    "                  yaxis_title='Price',\n",
    "                  template='plotly_dark')\n",
    "\n",
    "# Show the figure\n",
    "fig.show()"
   ]
  },
  {
   "cell_type": "code",
   "execution_count": null,
   "metadata": {},
   "outputs": [],
   "source": []
  },
  {
   "cell_type": "markdown",
   "metadata": {},
   "source": [
    "# w3"
   ]
  },
  {
   "cell_type": "code",
   "execution_count": null,
   "metadata": {},
   "outputs": [],
   "source": [
    "\n",
    "\n"
   ]
  },
  {
   "cell_type": "code",
   "execution_count": null,
   "metadata": {},
   "outputs": [],
   "source": [
    "import requests\n",
    "\n",
    "# Your Etherscan API key\n",
    "etherscan_api_key = 'BWV52ES9ZBH4DCHCME95Q4C3K1UCI5E36R'\n",
    "wallet_address = '0x9671CD3E1304B0aA66AD87C188bb475A60D7C748'\n",
    "\n",
    "# API endpoint to get transaction list\n",
    "url = f'https://api.etherscan.io/api?module=account&action=txlist&address={wallet_address}&startblock=0&endblock=99999999&sort=asc&apikey={etherscan_api_key}'\n",
    "\n",
    "response = requests.get(url)\n",
    "data = response.json()\n",
    "\n",
    "if data['status'] == '1':\n",
    "    transactions = data['result']\n",
    "    for tx in transactions:\n",
    "        print(f\"Transaction Hash: {tx['hash']}\")\n",
    "        print(f\"From: {tx['from']}\")\n",
    "        print(f\"To: {tx['to']}\")\n",
    "        print(f\"Value: {int(tx['value']) / 10**18} Ether\")\n",
    "        print(f\"Block Number: {tx['blockNumber']}\")\n",
    "        print(f\"Gas: {tx['gas']}\")\n",
    "        print(f\"Gas Price: {int(tx['gasPrice']) / 10**9} Gwei\")\n",
    "        print(\"-\" * 60)\n",
    "else:\n",
    "    print(\"Error fetching data from Etherscan\")\n",
    "\n",
    "# Total transactions count\n",
    "print(f\"Total transactions found: {len(transactions)}\")\n"
   ]
  },
  {
   "cell_type": "code",
   "execution_count": null,
   "metadata": {},
   "outputs": [],
   "source": [
    "data['result']"
   ]
  }
 ],
 "metadata": {
  "kernelspec": {
   "display_name": "base",
   "language": "python",
   "name": "python3"
  },
  "language_info": {
   "codemirror_mode": {
    "name": "ipython",
    "version": 3
   },
   "file_extension": ".py",
   "mimetype": "text/x-python",
   "name": "python",
   "nbconvert_exporter": "python",
   "pygments_lexer": "ipython3",
   "version": "3.12.4"
  }
 },
 "nbformat": 4,
 "nbformat_minor": 2
}
