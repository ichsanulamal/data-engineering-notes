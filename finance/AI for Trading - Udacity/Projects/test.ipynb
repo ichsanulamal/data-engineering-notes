{
 "cells": [
  {
   "cell_type": "code",
   "execution_count": null,
   "metadata": {},
   "outputs": [],
   "source": [
    "import yfinance as yf\n",
    "import numpy as np\n",
    "import matplotlib.pyplot as plt\n",
    "\n",
    "# Fetch historical stock data for Apple Inc. (AAPL)\n",
    "ticker = \"AAPL\"\n",
    "data = yf.download(ticker, start=\"2022-01-01\", end=\"2023-01-01\")\n",
    "closing_prices = data['Close'].values"
   ]
  },
  {
   "cell_type": "code",
   "execution_count": null,
   "metadata": {},
   "outputs": [],
   "source": [
    "# Kalman Filter implementation\n",
    "n_timesteps = len(closing_prices)\n",
    "dt = 1.0  # time step\n",
    "A = np.array([[1, dt], [0, 1]])\n",
    "H = np.array([[1, 0]])\n",
    "Q = np.array([[1, 0], [0, 1]])  # process noise covariance\n",
    "R = np.array([[10]])  # measurement noise covariance\n",
    "x = np.zeros((2, n_timesteps))  # state vector [price, drift]\n",
    "P = np.zeros((2, 2, n_timesteps))  # error covariance\n",
    "filtered_price = np.zeros(n_timesteps)  # filtered prices"
   ]
  },
  {
   "cell_type": "code",
   "execution_count": null,
   "metadata": {},
   "outputs": [],
   "source": [
    "# Initial estimates\n",
    "x[:, 0] = [closing_prices[0], 0]  # initial state estimate\n",
    "P[:, :, 0] = np.eye(2) * 1000  # initial error covariance\n",
    "\n",
    "for t in range(1, n_timesteps):\n",
    "    # Prediction\n",
    "    x[:, t] = A @ x[:, t-1]\n",
    "    P[:, :, t] = A @ P[:, :, t-1] @ A.T + Q\n",
    "    \n",
    "    # Update\n",
    "    K = P[:, :, t] @ H.T @ np.linalg.inv(H @ P[:, :, t] @ H.T + R)\n",
    "    x[:, t] = x[:, t] + K @ (closing_prices[t] - H @ x[:, t])\n",
    "    P[:, :, t] = (np.eye(2) - K @ H) @ P[:, :, t]\n",
    "    \n",
    "    # Store the filtered price\n",
    "    filtered_price[t] = x[0, t]\n",
    "\n",
    "# Plotting results\n",
    "plt.figure(figsize=(14, 7))\n",
    "plt.plot(closing_prices, label='Observed Prices')\n",
    "plt.plot(filtered_price, label='Filtered Prices', linestyle='dashed')\n",
    "plt.title(f'{ticker} Stock Prices: Observed vs. Filtered')\n",
    "plt.xlabel('Time')\n",
    "plt.ylabel('Price')\n",
    "plt.legend()\n",
    "plt.show()"
   ]
  }
 ],
 "metadata": {
  "kernelspec": {
   "display_name": "base",
   "language": "python",
   "name": "python3"
  },
  "language_info": {
   "codemirror_mode": {
    "name": "ipython",
    "version": 3
   },
   "file_extension": ".py",
   "mimetype": "text/x-python",
   "name": "python",
   "nbconvert_exporter": "python",
   "pygments_lexer": "ipython3",
   "version": "3.12.2"
  }
 },
 "nbformat": 4,
 "nbformat_minor": 2
}
