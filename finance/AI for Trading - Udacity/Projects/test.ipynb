{
 "cells": [
  {
   "cell_type": "markdown",
   "metadata": {},
   "source": [
    "# import"
   ]
  },
  {
   "cell_type": "code",
   "execution_count": null,
   "metadata": {},
   "outputs": [],
   "source": [
    "import yfinance as yf\n",
    "import numpy as np\n",
    "import matplotlib.pyplot as plt\n",
    "import pickle\n",
    "import pandas as pd\n",
    "import seaborn as sns\n",
    "\n",
    "from datasets import get_ohlcvs, get_closes, get_log_returns\n",
    "\n",
    "ohlcvs = get_ohlcvs(from_date='2023-01-01', to_date='2023-12-31')\n",
    "close_prices = get_closes(ohlcvs)\n",
    "log_returns = get_log_returns(close_prices)"
   ]
  },
  {
   "cell_type": "code",
   "execution_count": null,
   "metadata": {},
   "outputs": [],
   "source": [
    "log_returns"
   ]
  },
  {
   "cell_type": "markdown",
   "metadata": {},
   "source": [
    "# kalman"
   ]
  },
  {
   "cell_type": "code",
   "execution_count": null,
   "metadata": {},
   "outputs": [],
   "source": [
    "\n",
    "\n",
    "# Fetch historical stock data for Apple Inc. (AAPL)\n",
    "ticker = \"AAPL\"\n",
    "data = yf.download(ticker, start=\"2022-01-01\", end=\"2023-01-01\")\n",
    "closing_prices = data['close'].values"
   ]
  },
  {
   "cell_type": "code",
   "execution_count": null,
   "metadata": {},
   "outputs": [],
   "source": [
    "# Kalman Filter implementation\n",
    "n_timesteps = len(closing_prices)\n",
    "dt = 1.0  # time step\n",
    "A = np.array([[1, dt], [0, 1]])\n",
    "H = np.array([[1, 0]])\n",
    "Q = np.array([[1, 0], [0, 1]])  # process noise covariance\n",
    "R = np.array([[10]])  # measurement noise covariance\n",
    "x = np.zeros((2, n_timesteps))  # state vector [price, drift]\n",
    "P = np.zeros((2, 2, n_timesteps))  # error covariance\n",
    "filtered_price = np.zeros(n_timesteps)  # filtered prices"
   ]
  },
  {
   "cell_type": "code",
   "execution_count": null,
   "metadata": {},
   "outputs": [],
   "source": [
    "# Initial estimates\n",
    "x[:, 0] = [closing_prices[0], 0]  # initial state estimate\n",
    "P[:, :, 0] = np.eye(2) * 1000  # initial error covariance\n",
    "\n",
    "for t in range(1, n_timesteps):\n",
    "    # Prediction\n",
    "    x[:, t] = A @ x[:, t-1]\n",
    "    P[:, :, t] = A @ P[:, :, t-1] @ A.T + Q\n",
    "    \n",
    "    # Update\n",
    "    K = P[:, :, t] @ H.T @ np.linalg.inv(H @ P[:, :, t] @ H.T + R)\n",
    "    x[:, t] = x[:, t] + K @ (closing_prices[t] - H @ x[:, t])\n",
    "    P[:, :, t] = (np.eye(2) - K @ H) @ P[:, :, t]\n",
    "    \n",
    "    # Store the filtered price\n",
    "    filtered_price[t] = x[0, t]\n",
    "\n",
    "# Plotting results\n",
    "plt.figure(figsize=(14, 7))\n",
    "plt.plot(closing_prices, label='Observed Prices')\n",
    "plt.plot(filtered_price, label='Filtered Prices', linestyle='dashed')\n",
    "plt.title(f'{ticker} Stock Prices: Observed vs. Filtered')\n",
    "plt.xlabel('Time')\n",
    "plt.ylabel('Price')\n",
    "plt.legend()\n",
    "plt.show()"
   ]
  },
  {
   "cell_type": "markdown",
   "metadata": {},
   "source": [
    "# smc"
   ]
  },
  {
   "cell_type": "markdown",
   "metadata": {},
   "source": [
    "Yes, Python can be used to implement Smart Money Concepts (SMC) trading strategies. Python is a versatile programming language with a rich ecosystem of libraries and tools for data analysis, financial modeling, and algorithmic trading. Here's how you can use Python to apply SMC trading strategies:\n",
    "\n",
    "### Key Libraries and Tools\n",
    "\n",
    "1. **Pandas**: For data manipulation and analysis.\n",
    "2. **NumPy**: For numerical operations.\n",
    "3. **Matplotlib/Plotly**: For data visualization.\n",
    "4. **TA-Lib**: For technical analysis indicators.\n",
    "5. **ccxt**: For accessing cryptocurrency exchange APIs.\n",
    "6. **yfinance**: For accessing historical stock market data.\n",
    "7. **Scikit-learn**: For machine learning (if needed).\n",
    "8. **Backtrader**: For backtesting trading strategies.\n",
    "\n",
    "### Workflow for Implementing SMC Trading in Python\n",
    "\n",
    "1. **Data Collection**:\n",
    "   - Use `ccxt` or `yfinance` to fetch historical market data.\n",
    "\n",
    "2. **Market Structure Analysis**:\n",
    "   - Identify swing highs and lows to understand market phases.\n",
    "\n",
    "3. **Order Block Identification**:\n",
    "   - Identify potential order blocks by finding significant price levels where large moves originated.\n",
    "\n",
    "4. **Liquidity Pool Detection**:\n",
    "   - Identify areas of liquidity by finding clusters of stop-loss orders.\n",
    "\n",
    "5. **Break of Structure (BOS) and Fair Value Gap (FVG) Detection**:\n",
    "   - Detect breaks in market structure and gaps in price movements.\n",
    "\n",
    "6. **Visualization**:\n",
    "   - Visualize the data to identify patterns and confirm signals.\n",
    "\n",
    "7. **Backtesting**:\n",
    "   - Use `Backtrader` to backtest the strategy."
   ]
  },
  {
   "cell_type": "code",
   "execution_count": null,
   "metadata": {},
   "outputs": [],
   "source": [
    "data = pd.read_csv('eth.csv', index_col='timestamp')\n",
    "data"
   ]
  },
  {
   "cell_type": "code",
   "execution_count": null,
   "metadata": {},
   "outputs": [],
   "source": [
    "def identify_swings(data, window=1):\n",
    "         data['Swing_high'] = data['high'][(data['high'].shift(window) < data['high']) & (data['high'].shift(-window) < data['high'])]\n",
    "         data['Swing_low'] = data['low'][(data['low'].shift(window) > data['low']) & (data['low'].shift(-window) > data['low'])]\n",
    "         return data\n",
    "\n",
    "identify_swings(data)"
   ]
  },
  {
   "cell_type": "code",
   "execution_count": null,
   "metadata": {},
   "outputs": [],
   "source": [
    "def find_order_blocks(data, threshold=0.01):\n",
    "         data['Order_Block'] = (data['close'].pct_change().abs() > threshold)\n",
    "         return data\n",
    "\n",
    "find_order_blocks(data)"
   ]
  },
  {
   "cell_type": "code",
   "execution_count": null,
   "metadata": {},
   "outputs": [],
   "source": [
    "def identify_liquidity_pools(data):\n",
    "         # Simple method: mark previous highs/lows as liquidity pools\n",
    "         data['Liquidity_Pool_low'] = data['low'].rolling(window=20).min()\n",
    "         data['Liquidity_Pool_high'] = data['high'].rolling(window=20).max()\n",
    "         data['Liquidity_Pool'] = data['high'].rolling(window=20).max() - data['low'].rolling(window=20).min()\n",
    "         return data\n",
    "\n",
    "identify_liquidity_pools(data)"
   ]
  },
  {
   "cell_type": "code",
   "execution_count": null,
   "metadata": {},
   "outputs": [],
   "source": [
    "def detect_bos(data):\n",
    "    data['BOS'] = (data['close'] > data['high'].shift(1)) | (data['close'] < data['low'].shift(1))\n",
    "    return data\n",
    "\n",
    "def detect_fvg(data):\n",
    "    data['FVG'] = (data['high'].shift(1) - data['low']) > 0\n",
    "    return data\n",
    "\n",
    "detect_bos(data)\n",
    "\n",
    "detect_fvg(data)\n"
   ]
  },
  {
   "cell_type": "code",
   "execution_count": null,
   "metadata": {},
   "outputs": [],
   "source": [
    "import plotly.graph_objects as go\n",
    "from plotly.subplots import make_subplots\n",
    "\n",
    "# Initialize figure\n",
    "fig = make_subplots(rows=1, cols=1)\n",
    "\n",
    "# Add candlestick chart\n",
    "fig.add_trace(go.Candlestick(x=data.index,\n",
    "                             open=data['open'],\n",
    "                             high=data['high'],\n",
    "                             low=data['low'],\n",
    "                             close=data['close'],\n",
    "                             name='Candlestick'))\n",
    "\n",
    "# Add swing highs and lows\n",
    "fig.add_trace(go.Scatter(x=data.index, y=data['Swing_high'],\n",
    "                         mode='markers',\n",
    "                         marker=dict(color='red', symbol='triangle-up', size=10),\n",
    "                         name='Swing high'))\n",
    "\n",
    "fig.add_trace(go.Scatter(x=data.index, y=data['Swing_low'],\n",
    "                         mode='markers',\n",
    "                         marker=dict(color='green', symbol='triangle-down', size=10),\n",
    "                         name='Swing low'))\n",
    "\n",
    "# Customize layout\n",
    "fig.update_layout(title='Market Data with Swing highs and lows',\n",
    "                  xaxis_title='Date',\n",
    "                  yaxis_title='Price',\n",
    "                  template='plotly_dark')\n",
    "\n",
    "# Show the figure\n",
    "fig.show()"
   ]
  },
  {
   "cell_type": "code",
   "execution_count": null,
   "metadata": {},
   "outputs": [],
   "source": []
  },
  {
   "cell_type": "code",
   "execution_count": null,
   "metadata": {},
   "outputs": [],
   "source": [
    "# !wget -nc https://lazyprogrammer.me/course_files/SPY.csv"
   ]
  },
  {
   "cell_type": "code",
   "execution_count": null,
   "metadata": {},
   "outputs": [],
   "source": [
    "import pandas as pd\n",
    "import numpy as np\n",
    "import matplotlib.pyplot as plt\n",
    "import itertools"
   ]
  },
  {
   "cell_type": "code",
   "execution_count": null,
   "metadata": {},
   "outputs": [],
   "source": [
    "df = pd.read_csv('SPY.csv', index_col='Date', parse_dates=True)"
   ]
  },
  {
   "cell_type": "code",
   "execution_count": null,
   "metadata": {},
   "outputs": [],
   "source": [
    "df['FastSMA'] = df['Close'].rolling(16).mean()\n",
    "df['SlowSMA'] = df['Close'].rolling(33).mean()\n"
   ]
  },
  {
   "cell_type": "code",
   "execution_count": null,
   "metadata": {},
   "outputs": [],
   "source": [
    "df['LogReturn'] = np.log(df['Close']).diff()"
   ]
  },
  {
   "cell_type": "code",
   "execution_count": null,
   "metadata": {},
   "outputs": [],
   "source": [
    "Ntest = 1000\n",
    "train = df.iloc[:-Ntest].copy()\n",
    "test = df.iloc[-Ntest:].copy()"
   ]
  },
  {
   "cell_type": "code",
   "execution_count": null,
   "metadata": {},
   "outputs": [],
   "source": [
    "class Env:\n",
    "    def __init__(self, df, feats):\n",
    "        self.df = df\n",
    "        self.n = len(df)\n",
    "        self.current_idx = 0\n",
    "        self.action_space = [0, 1, 2]  # BUY, SELL, HOLD\n",
    "        self.invested = 0\n",
    "        \n",
    "        self.states = self.df[feats].to_numpy()\n",
    "        self.rewards = self.df['LogReturn'].to_numpy()\n",
    "        self.total_buy_and_hold = 0\n",
    "\n",
    "    def reset(self):\n",
    "        self.current_idx = 0\n",
    "        self.total_buy_and_hold = 0\n",
    "        self.invested = 0\n",
    "        return self.states[self.current_idx]\n",
    "\n",
    "    def step(self, action):\n",
    "        # need to return (next_state, reward, done)\n",
    "        self.current_idx += 1\n",
    "        \n",
    "        if self.current_idx >= self.n:\n",
    "            raise Exception(\"Episode already done\")\n",
    "        \n",
    "        if action == 0:  # BUY\n",
    "            self.invested = 1\n",
    "        elif action == 1:  # SELL\n",
    "            self.invested = 0\n",
    "        \n",
    "        # Compute reward\n",
    "        if self.invested:\n",
    "            reward = self.rewards[self.current_idx]\n",
    "        else:\n",
    "            reward = 0\n",
    "        \n",
    "        # State transition\n",
    "        next_state = self.states[self.current_idx]\n",
    "\n",
    "        self.total_buy_and_hold += self.rewards[self.current_idx]\n",
    "        \n",
    "        # Check if the episode is done\n",
    "        done = self.current_idx >= self.n - 1\n",
    "        \n",
    "        return next_state, reward, done\n"
   ]
  },
  {
   "cell_type": "code",
   "execution_count": null,
   "metadata": {},
   "outputs": [],
   "source": [
    "class Agent:\n",
    "    def __init__(self):\n",
    "        self.is_invested = False\n",
    "\n",
    "    def act(self, state):\n",
    "        assert len(state) == 2  # Ensure state has two elements (fast, slow)\n",
    "\n",
    "        # (fast, slow)\n",
    "        if state[0] > state[1] and not self.is_invested:\n",
    "            self.is_invested = True\n",
    "            return 0  # Buy\n",
    "\n",
    "        if state[0] < state[1] and self.is_invested:\n",
    "            self.is_invested = False\n",
    "            return 1  # Sell\n",
    "\n",
    "        return 2  # Do nothing\n"
   ]
  },
  {
   "cell_type": "code",
   "execution_count": null,
   "metadata": {},
   "outputs": [],
   "source": [
    "def play_one_episode(agent, env):\n",
    "    state = env.reset()\n",
    "    done = False\n",
    "    total_reward = 0\n",
    "    agent.is_invested = False\n",
    "    \n",
    "    while not done:\n",
    "        action = agent.act(state)\n",
    "        next_state, reward, done = env.step(action)\n",
    "        total_reward += reward\n",
    "        state = next_state\n",
    "    \n",
    "    return total_reward\n"
   ]
  },
  {
   "cell_type": "code",
   "execution_count": null,
   "metadata": {},
   "outputs": [],
   "source": [
    "train_env = Env(train, ['FastSMA', 'SlowSMA'])\n",
    "test_env = Env(test, ['FastSMA', 'SlowSMA'])\n",
    "agent = Agent()"
   ]
  },
  {
   "cell_type": "code",
   "execution_count": null,
   "metadata": {},
   "outputs": [],
   "source": [
    "train_reward = play_one_episode(agent, train_env)\n",
    "\n",
    "test_reward = play_one_episode(agent, test_env)"
   ]
  },
  {
   "cell_type": "code",
   "execution_count": null,
   "metadata": {},
   "outputs": [],
   "source": [
    "train_reward, train_env.total_buy_and_hold"
   ]
  },
  {
   "cell_type": "code",
   "execution_count": null,
   "metadata": {},
   "outputs": [],
   "source": [
    "test_reward, test_env.total_buy_and_hold"
   ]
  },
  {
   "cell_type": "markdown",
   "metadata": {},
   "source": [
    "# dax ema"
   ]
  },
  {
   "cell_type": "code",
   "execution_count": null,
   "metadata": {},
   "outputs": [],
   "source": [
    "# Download DAX data from Yahoo Finance\n",
    "data = ohlcvs['eth']\n",
    "data.columns = data.columns.str.title()\n"
   ]
  },
  {
   "cell_type": "code",
   "execution_count": null,
   "metadata": {},
   "outputs": [],
   "source": [
    "import pandas as pd\n",
    "import numpy as np\n",
    "import yfinance as yf\n",
    "import plotly.graph_objects as go\n",
    "from plotly.subplots import make_subplots\n",
    "\n",
    "# Calculate EMAs\n",
    "def calculate_ema(data, period):\n",
    "    return data.ewm(span=period, adjust=False).mean()\n",
    "\n",
    "data['EMA_Short'] = calculate_ema(data['Close'], 20)\n",
    "data['EMA_Long'] = calculate_ema(data['Close'], 50)\n",
    "\n",
    "# Calculate RSI\n",
    "def calculate_rsi(data, period):\n",
    "    delta = data.diff()\n",
    "    gain = (delta.where(delta > 0, 0)).rolling(window=period).mean()\n",
    "    loss = (-delta.where(delta < 0, 0)).rolling(window=period).mean()\n",
    "    rs = gain / loss\n",
    "    return 100 - (100 / (1 + rs))\n",
    "\n",
    "data['RSI'] = calculate_rsi(data['Close'], 14)\n",
    "\n",
    "# Calculate Bollinger Bands\n",
    "def calculate_bollinger_bands(data, period, num_std):\n",
    "    rolling_mean = data.rolling(window=period).mean()\n",
    "    rolling_std = data.rolling(window=period).std()\n",
    "    upper_band = rolling_mean + (rolling_std * num_std)\n",
    "    lower_band = rolling_mean - (rolling_std * num_std)\n",
    "    return upper_band, rolling_mean, lower_band\n",
    "\n",
    "data['BB_High'], data['BB_Mid'], data['BB_Low'] = calculate_bollinger_bands(data['Close'], 20, 2)\n",
    "data['BB_EMA'] = calculate_ema(data['BB_Mid'], 20)\n",
    "\n",
    "# Create signals\n",
    "data['EMA_Cross_Signal'] = np.where(data['EMA_Short'] > data['EMA_Long'], 1, 0)\n",
    "data['RSI_Signal'] = np.where((data['RSI'] > 70) | (data['RSI'] < 30), 1, 0)\n",
    "data['BB_EMA_Signal'] = np.where((data['Close'] > data['BB_High']) | (data['Close'] < data['BB_Low']), 1, 0)\n",
    "\n",
    "# Combine signals\n",
    "data['Combined_Signal'] = data['EMA_Cross_Signal'] + data['RSI_Signal'] + data['BB_EMA_Signal']\n",
    "\n",
    "# Calculate performance\n",
    "data['Returns'] = data['Close'].pct_change()\n",
    "data['Strategy_Returns'] = data['Returns'] * data['Combined_Signal'].shift(1)\n",
    "\n",
    "cumulative_returns = (1 + data['Returns']).cumprod()\n",
    "cumulative_strategy_returns = (1 + data['Strategy_Returns']).cumprod()\n",
    "\n",
    "# Create subplots\n",
    "fig = make_subplots(rows=4, cols=1, shared_xaxes=True, vertical_spacing=0.05,\n",
    "                    subplot_titles=('DAX Price and EMAs', 'RSI', 'Bollinger Bands and BB EMA', 'Performance Comparison'))\n",
    "\n",
    "# Plot 1: Price and EMAs\n",
    "fig.add_trace(go.Scatter(x=data.index, y=data['Close'], name='Close Price', line=dict(color='blue', width=2)), row=1, col=1)\n",
    "fig.add_trace(go.Scatter(x=data.index, y=data['EMA_Short'], name='EMA Short', line=dict(color='orange', width=1.5)), row=1, col=1)\n",
    "fig.add_trace(go.Scatter(x=data.index, y=data['EMA_Long'], name='EMA Long', line=dict(color='green', width=1.5)), row=1, col=1)\n",
    "\n",
    "# Plot 2: RSI\n",
    "fig.add_trace(go.Scatter(x=data.index, y=data['RSI'], name='RSI', line=dict(color='purple', width=1.5)), row=2, col=1)\n",
    "fig.add_hline(y=70, line_dash=\"dash\", line_color=\"red\", row=2, col=1)\n",
    "fig.add_hline(y=30, line_dash=\"dash\", line_color=\"green\", row=2, col=1)\n",
    "\n",
    "# Plot 3: Bollinger Bands\n",
    "fig.add_trace(go.Scatter(x=data.index, y=data['Close'], name='Close Price', line=dict(color='blue', width=2)), row=3, col=1)\n",
    "fig.add_trace(go.Scatter(x=data.index, y=data['BB_High'], name='BB High', line=dict(color='red', width=1.5)), row=3, col=1)\n",
    "fig.add_trace(go.Scatter(x=data.index, y=data['BB_Low'], name='BB Low', line=dict(color='green', width=1.5)), row=3, col=1)\n",
    "fig.add_trace(go.Scatter(x=data.index, y=data['BB_EMA'], name='BB EMA', line=dict(color='orange', width=1.5)), row=3, col=1)\n",
    "\n",
    "# Plot 4: Performance Comparison\n",
    "fig.add_trace(go.Scatter(x=data.index, y=cumulative_returns, name='Buy and Hold', line=dict(color='blue', width=2)), row=4, col=1)\n",
    "fig.add_trace(go.Scatter(x=data.index, y=cumulative_strategy_returns, name='Strategy', line=dict(color='red', width=2)), row=4, col=1)\n",
    "\n",
    "# Update layout\n",
    "fig.update_layout(height=1200, width=1200, title_text=\"DAX Trading Strategy Backtest\")\n",
    "fig.update_xaxes(rangeslider_visible=False)\n",
    "fig.update_yaxes(title_text=\"Price\", row=1, col=1)\n",
    "fig.update_yaxes(title_text=\"RSI\", row=2, col=1)\n",
    "fig.update_yaxes(title_text=\"Price\", row=3, col=1)\n",
    "fig.update_yaxes(title_text=\"Cumulative Returns\", row=4, col=1)\n",
    "\n",
    "# Show the interactive plot\n",
    "fig.show()\n",
    "\n",
    "# Print performance metrics\n",
    "print(f\"Buy and Hold Return: {cumulative_returns.iloc[-1]:.2f}\")\n",
    "print(f\"Strategy Return: {cumulative_strategy_returns.iloc[-1]:.2f}\")"
   ]
  },
  {
   "cell_type": "markdown",
   "metadata": {},
   "source": [
    "# spot martingale"
   ]
  },
  {
   "cell_type": "code",
   "execution_count": null,
   "metadata": {},
   "outputs": [],
   "source": [
    "df = data.loc['2022-01-01':, :].reset_index()\n",
    "df = df.rename(columns={'index': 'Date'})"
   ]
  },
  {
   "cell_type": "code",
   "execution_count": null,
   "metadata": {},
   "outputs": [],
   "source": [
    "# Assume df has 'Date', 'Open', 'High', 'Low', 'Close', 'Volume'\n",
    "# Parameters\n",
    "price_step = 0.01  # 1%\n",
    "tp_target = 0.015  # 1.5%\n",
    "initial_order_amount = 1000  # example amount in USDT\n",
    "safety_order_amount = 1000  # example amount in USDT\n",
    "amount_multiplier = 1.1  # Safety order multiplier\n",
    "max_safety_orders = 8  # Maximum number of safety orders\n",
    "\n",
    "# Initialize variables\n",
    "capital = 100000  # Initial capital in USDT\n",
    "position_size = 0\n",
    "entry_price = 2000\n",
    "safety_orders = 0\n",
    "equity_curve = []\n"
   ]
  },
  {
   "cell_type": "code",
   "execution_count": null,
   "metadata": {},
   "outputs": [],
   "source": [
    "# df[df.index == '2024-01-01']"
   ]
  },
  {
   "cell_type": "code",
   "execution_count": null,
   "metadata": {},
   "outputs": [],
   "source": [
    "# Simulate the strategy\n",
    "for i in range(1, len(df)):\n",
    "    # Price drop condition (Trigger safety order)\n",
    "    if (df['Close'].iloc[i] < entry_price * (1 - price_step)) and (safety_orders < max_safety_orders):\n",
    "        safety_orders += 1\n",
    "        entry_price = (entry_price * position_size + df['Close'].iloc[i] * safety_order_amount) / (position_size + safety_order_amount)\n",
    "        position_size += safety_order_amount * (amount_multiplier ** safety_orders)\n",
    "\n",
    "    # Take profit condition\n",
    "    if df['Close'].iloc[i] >= entry_price * (1 + tp_target):\n",
    "        profit = position_size * tp_target\n",
    "        capital += profit\n",
    "        position_size = 0\n",
    "        safety_orders = 0\n",
    "        entry_price = df['Close'].iloc[i]\n",
    "\n",
    "    equity_curve.append(capital)"
   ]
  },
  {
   "cell_type": "code",
   "execution_count": null,
   "metadata": {},
   "outputs": [],
   "source": [
    "equity_curve"
   ]
  },
  {
   "cell_type": "code",
   "execution_count": null,
   "metadata": {},
   "outputs": [],
   "source": [
    "# Convert equity curve to DataFrame for analysis\n",
    "equity_curve = pd.Series(equity_curve, index=df['Date'])\n",
    "\n",
    "# Calculate Total Return\n",
    "total_return = (equity_curve.iloc[-1] / equity_curve.iloc[0]) - 1\n",
    "\n",
    "# Calculate Daily Returns\n",
    "daily_returns = equity_curve.pct_change().dropna()\n",
    "\n",
    "# Sharpe Ratio (assuming risk-free rate is 0)\n",
    "sharpe_ratio = np.sqrt(252) * daily_returns.mean() / daily_returns.std()\n",
    "\n",
    "# Maximum Drawdown\n",
    "rolling_max = equity_curve.cummax()\n",
    "drawdown = (equity_curve - rolling_max) / rolling_max\n",
    "max_drawdown = drawdown.min()\n",
    "\n",
    "# Win Rate and Profit Factor\n",
    "# Assuming we tracked all trades, not just the final equity curve\n",
    "profits = []  # list to hold profits of individual trades\n",
    "losses = []   # list to hold losses of individual trades\n",
    "\n",
    "# You would populate profits and losses based on your trade executions\n",
    "# This is a simplified representation\n",
    "for trade in trades:  # assume trades is a list of trade results\n",
    "    if trade > 0:\n",
    "        profits.append(trade)\n",
    "    else:\n",
    "        losses.append(trade)\n",
    "\n",
    "win_rate = len([p for p in profits if p > 0]) / len(trades)\n",
    "profit_factor = sum(profits) / abs(sum(losses))\n",
    "\n",
    "# Output results\n",
    "print(f\"Total Return: {total_return:.2%}\")\n",
    "print(f\"Sharpe Ratio: {sharpe_ratio:.2f}\")\n",
    "print(f\"Maximum Drawdown: {max_drawdown:.2%}\")\n",
    "print(f\"Win Rate: {win_rate:.2%}\")\n",
    "print(f\"Profit Factor: {profit_factor:.2f}\")"
   ]
  },
  {
   "cell_type": "markdown",
   "metadata": {},
   "source": [
    "# corr clustermap"
   ]
  },
  {
   "cell_type": "code",
   "execution_count": null,
   "metadata": {},
   "outputs": [],
   "source": [
    "correlation_matrix['eth'].sort_values(ascending=False)"
   ]
  },
  {
   "cell_type": "code",
   "execution_count": null,
   "metadata": {},
   "outputs": [],
   "source": [
    "# Plot the correlation of 'ETH' with other assets\n",
    "eth_correlation = correlation_matrix['eth'].sort_values(ascending=False)\n",
    "\n",
    "# Plot the correlation of 'ETH' with other assets\n",
    "plt.figure(figsize=(20, 20))\n",
    "sns.barplot(x=eth_correlation.values, y=eth_correlation.index, palette='coolwarm')\n",
    "plt.title('Correlation of ETH with Other Assets')\n",
    "plt.xlabel('Assets')\n",
    "plt.ylabel('Correlation')\n",
    "plt.show()\n"
   ]
  },
  {
   "cell_type": "code",
   "execution_count": null,
   "metadata": {},
   "outputs": [],
   "source": [
    "sns.heatmap(.sort_values(ascending=False), annot=True, cmap='coolwarm', vmin=-1, vmax=1, cbar_kws={'label': 'Correlation'})"
   ]
  },
  {
   "cell_type": "code",
   "execution_count": null,
   "metadata": {},
   "outputs": [],
   "source": [
    "# Compute the correlation matrix\n",
    "correlation_matrix = log_returns.corr()\n",
    "correlation_matrix = correlation_matrix.fillna(0).sort_index(axis=0).sort_index(axis=1)\n",
    "correlation_matrix\n",
    "sns.clustermap(correlation_matrix, cmap='coolwarm')"
   ]
  }
 ],
 "metadata": {
  "kernelspec": {
   "display_name": "base",
   "language": "python",
   "name": "python3"
  },
  "language_info": {
   "codemirror_mode": {
    "name": "ipython",
    "version": 3
   },
   "file_extension": ".py",
   "mimetype": "text/x-python",
   "name": "python",
   "nbconvert_exporter": "python",
   "pygments_lexer": "ipython3",
   "version": "3.12.4"
  }
 },
 "nbformat": 4,
 "nbformat_minor": 2
}
