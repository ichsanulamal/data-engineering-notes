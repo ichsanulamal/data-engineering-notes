{
 "cells": [
  {
   "cell_type": "code",
   "execution_count": null,
   "metadata": {},
   "outputs": [],
   "source": [
    "pip install pandas requests beautifulsoup4 spacy\n",
    "\n",
    "python -m spacy download xx_ent_wiki_sm"
   ]
  },
  {
   "cell_type": "code",
   "execution_count": 1,
   "metadata": {},
   "outputs": [],
   "source": [
    "import pandas as pd"
   ]
  },
  {
   "cell_type": "code",
   "execution_count": 9,
   "metadata": {},
   "outputs": [],
   "source": [
    "df = pd.DataFrame()"
   ]
  },
  {
   "cell_type": "code",
   "execution_count": 8,
   "metadata": {},
   "outputs": [
    {
     "name": "stdout",
     "output_type": "stream",
     "text": [
      "{'title': 'Kelakar Prabowo soal Harap-harap Cemas Dapat Dukungan dari LDII', 'topic_subtitle': 'Pemilu 2019', 'read_time': <div class=\"read__time\"><a href=\"https://www.kompas.com\">Kompas.com</a> - 11/10/2018, 19:09 WIB</div>, 'writers': ['\\nKristian Erdianto,\\nSabrina Asril\\n'], 'read_content': 'JAKARTA, KOMPAS.com - Calon Presiden nomor urut 02 Prabowo Subianto sempat berkelakar saat berpidato pada Rapat Kerja Nasional (Rakernas) Lembaga Dakwah Islam Indonesia (LDII) di Pondok Pesantren Minhajurrosyidin Pondok Gede, Jakarta Timur, Kamis (11/10/2018).\\n Ia menegaskan bahwa kehadirannya di rakernas bukan sebagai bentuk untuk meminta dukungan pada Pilpres 2019 mendatang. Namun, ia tak memungkiri juga berharap dukungan dari LDII.\\n\"Saya ini sudah ditetapkan sebagai calon presiden dan saya menghormati LDII, di rakernas saudara saya tidak akan datang minta dukungan. Saya tidak mau, itu hak saudara,\" ujar Prabowo.\\n\"Nah kalau di dalam hati saya berharap LDII mendukung saya, ya itu hak saya, boleh kan? Orang kan boleh berharap sambil cemas-cemas begitu,\" ucap dia yang membuat peserta rakernas dan bertepuk tangan.\\nBaca juga: Prabowo Sebut Indonesia Menjalankan Ekonomi Kebodohan\\n Dalam acara tersebut, Prabowo sempat memaparkan kritik dan pandangannya terkait beberapa persoalan di bidang ekonomi.\\n Ia juga memaparkan sejumlah data yang menunjukkan kesenjangan di masyarakat.\\n \"Ya itu bahan saudara untuk merenungkan, biar saudara ambil keputusan di hatimu, dialog dengan diri sendiri,\" tuturnya.\\n Selain itu, ia juga menegaskan bahwa dirinya tidak meminta dukungan saat mengunjungi pesantren dan ulama.\\nBaca juga: Sekjen Gerindra: Pilpres 2019 Jadi Pemilu Terberat bagi Prabowo\\nDiketahui, pekan lalu Prabowo sempat bersilaturahim dengan beberapa ulama pimpinan pondok pesantren di Jawa Tengah.\\n\"Saya ke pesantren tidak pernah minta Pak Kiai dukung saya. Minta doa, boleh,\" kata Ketua Umum Partai Gerindra itu.\\n\"Saya menyampaikan pandangan saya, saudara-saudara menilai Prabowo masuk akal atau tidak atau hanya bombastis. Sesudah itu silakan, yang terbaik untuk rakyat, yang menjadi keputusan rakyat kita harus hormati,\" tuturnya.\\n '}\n"
     ]
    }
   ],
   "source": [
    "import requests\n",
    "from bs4 import BeautifulSoup\n",
    "\n",
    "# Make a request to the webpage\n",
    "url = 'https://nasional.kompas.com/read/2018/10/11/19092051/kelakar-prabowo-soal-harap-harap-cemas-dapat-dukungan-dari-ldii'  # Replace with the actual URL\n",
    "response = requests.get(url)\n",
    "\n",
    "# Parse the HTML content\n",
    "soup = BeautifulSoup(response.content, 'html.parser')\n",
    "\n",
    "# Initialize an empty dictionary\n",
    "scraped_data = {}\n",
    "\n",
    "scraped_data['title'] = soup.find(class_='read__title').text\n",
    "scraped_data['topic_subtitle'] = soup.select_one('.topicSubtitle ul li a').text\n",
    "scraped_data['read_time'] = soup.select_one('.read__time')\n",
    "scraped_data['writers'] = [h6.text for h6 in soup.select('.credit-title-name')]\n",
    "scraped_data['read_content'] = '\\n'.join(p.text for p in soup.select('.read__content p'))"
   ]
  },
  {
   "cell_type": "code",
   "execution_count": 15,
   "metadata": {},
   "outputs": [],
   "source": [
    "# Convert the dictionary to a Pandas DataFrame\n",
    "df = pd.DataFrame([scraped_data])"
   ]
  },
  {
   "cell_type": "code",
   "execution_count": 20,
   "metadata": {},
   "outputs": [],
   "source": [
    "df.to_csv('scraped_data.csv', index=False)"
   ]
  },
  {
   "cell_type": "markdown",
   "metadata": {},
   "source": [
    "# Extract Entity"
   ]
  },
  {
   "cell_type": "code",
   "execution_count": 23,
   "metadata": {},
   "outputs": [
    {
     "name": "stdout",
     "output_type": "stream",
     "text": [
      "[('JAKARTA', 'MISC'), ('KOMPAS.com - Calon Presiden', 'ORG'), ('Prabowo Subianto', 'PER'), ('Rapat Kerja Nasional', 'PER'), ('Rakernas', 'ORG'), ('LDII', 'MISC'), ('Pondok Pesantren', 'LOC'), ('Minhajurrosyidin Pondok Gede', 'PER'), ('Jakarta Timur', 'PER'), ('Kamis', 'LOC'), ('Pilpres 2019', 'MISC'), ('Namun', 'LOC'), ('LDII', 'MISC'), ('Saya', 'PER'), ('LDII', 'MISC'), ('akan datang minta dukungan', 'PER'), ('Saya', 'PER'), ('Prabowo', 'PER'), ('LDII', 'MISC'), ('Orang', 'LOC'), ('cemas-cemas begitu', 'LOC'), ('Prabowo', 'PER'), ('pandangannya', 'ORG'), ('yang menunjukkan kesenjangan', 'PER'), ('dialog dengan', 'PER'), ('Selain', 'PER'), ('Sekjen Gerindra', 'PER'), ('Jadi Pemilu', 'PER'), ('Terberat', 'LOC'), ('Prabowo\\nDiketahui', 'LOC'), ('Prabowo', 'LOC'), ('Jawa Tengah', 'PER'), ('Saya', 'PER'), ('Pak Kiai', 'PER'), ('Ketua Umum', 'MISC'), ('Saya', 'PER'), ('Prabowo', 'LOC'), ('yang menjadi', 'PER')]\n"
     ]
    }
   ],
   "source": [
    "import spacy\n",
    "\n",
    "# Load the Indonesian model for spaCy\n",
    "nlp = spacy.load('xx_ent_wiki_sm')  # This is the small Indonesian model\n",
    "\n",
    "# Assuming 'read_content' is the variable containing the scraped content\n",
    "doc = nlp(read_content)\n",
    "\n",
    "# Extract entities\n",
    "entities = [(ent.text, ent.label_) for ent in doc.ents]"
   ]
  },
  {
   "cell_type": "code",
   "execution_count": 24,
   "metadata": {},
   "outputs": [
    {
     "name": "stdout",
     "output_type": "stream",
     "text": [
      "('JAKARTA', 'MISC')\n",
      "('KOMPAS.com - Calon Presiden', 'ORG')\n",
      "('Prabowo Subianto', 'PER')\n",
      "('Rapat Kerja Nasional', 'PER')\n",
      "('Rakernas', 'ORG')\n",
      "('LDII', 'MISC')\n",
      "('Pondok Pesantren', 'LOC')\n",
      "('Minhajurrosyidin Pondok Gede', 'PER')\n",
      "('Jakarta Timur', 'PER')\n",
      "('Kamis', 'LOC')\n",
      "('Pilpres 2019', 'MISC')\n",
      "('Namun', 'LOC')\n",
      "('LDII', 'MISC')\n",
      "('Saya', 'PER')\n",
      "('LDII', 'MISC')\n",
      "('akan datang minta dukungan', 'PER')\n",
      "('Saya', 'PER')\n",
      "('Prabowo', 'PER')\n",
      "('LDII', 'MISC')\n",
      "('Orang', 'LOC')\n",
      "('cemas-cemas begitu', 'LOC')\n",
      "('Prabowo', 'PER')\n",
      "('pandangannya', 'ORG')\n",
      "('yang menunjukkan kesenjangan', 'PER')\n",
      "('dialog dengan', 'PER')\n",
      "('Selain', 'PER')\n",
      "('Sekjen Gerindra', 'PER')\n",
      "('Jadi Pemilu', 'PER')\n",
      "('Terberat', 'LOC')\n",
      "('Prabowo\\nDiketahui', 'LOC')\n",
      "('Prabowo', 'LOC')\n",
      "('Jawa Tengah', 'PER')\n",
      "('Saya', 'PER')\n",
      "('Pak Kiai', 'PER')\n",
      "('Ketua Umum', 'MISC')\n",
      "('Saya', 'PER')\n",
      "('Prabowo', 'LOC')\n",
      "('yang menjadi', 'PER')\n"
     ]
    }
   ],
   "source": [
    "for entity in entities:\n",
    "    print(entity)"
   ]
  }
 ],
 "metadata": {
  "kernelspec": {
   "display_name": "py39",
   "language": "python",
   "name": "python3"
  },
  "language_info": {
   "codemirror_mode": {
    "name": "ipython",
    "version": 3
   },
   "file_extension": ".py",
   "mimetype": "text/x-python",
   "name": "python",
   "nbconvert_exporter": "python",
   "pygments_lexer": "ipython3",
   "version": "3.11.5"
  }
 },
 "nbformat": 4,
 "nbformat_minor": 2
}
