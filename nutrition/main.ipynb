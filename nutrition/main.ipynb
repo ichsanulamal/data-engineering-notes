{
 "cells": [
  {
   "cell_type": "code",
   "execution_count": 13,
   "metadata": {},
   "outputs": [
    {
     "ename": "AuthenticationError",
     "evalue": "Error 2: This api call requires an authenticated session",
     "output_type": "error",
     "traceback": [
      "\u001b[1;31m---------------------------------------------------------------------------\u001b[0m",
      "\u001b[1;31mAuthenticationError\u001b[0m                       Traceback (most recent call last)",
      "Cell \u001b[1;32mIn[13], line 6\u001b[0m\n\u001b[0;32m      3\u001b[0m \u001b[39m# v.2\u001b[39;00m\n\u001b[0;32m      4\u001b[0m \u001b[39m# fs = Fatsecret('4fcce0bbb78d4ab8aac0bbc81cd0e77f', 'e209f719452647a1a5e296471faf89ad')\u001b[39;00m\n\u001b[0;32m      5\u001b[0m fs \u001b[39m=\u001b[39m Fatsecret(\u001b[39m'\u001b[39m\u001b[39m4fcce0bbb78d4ab8aac0bbc81cd0e77f\u001b[39m\u001b[39m'\u001b[39m, \u001b[39m'\u001b[39m\u001b[39m012438b7e597427982674affe48f90a7\u001b[39m\u001b[39m'\u001b[39m)\n\u001b[1;32m----> 6\u001b[0m fs\u001b[39m.\u001b[39;49mfoods_get_favorites()\n",
      "File \u001b[1;32mc:\\Users\\mal\\Documents\\projects\\gizi\\venv\\Lib\\site-packages\\fatsecret\\fatsecret.py:322\u001b[0m, in \u001b[0;36mFatsecret.foods_get_favorites\u001b[1;34m(self)\u001b[0m\n\u001b[0;32m    319\u001b[0m params \u001b[39m=\u001b[39m {\u001b[39m\"\u001b[39m\u001b[39mmethod\u001b[39m\u001b[39m\"\u001b[39m: \u001b[39m\"\u001b[39m\u001b[39mfoods.get_favorites\u001b[39m\u001b[39m\"\u001b[39m, \u001b[39m\"\u001b[39m\u001b[39mformat\u001b[39m\u001b[39m\"\u001b[39m: \u001b[39m\"\u001b[39m\u001b[39mjson\u001b[39m\u001b[39m\"\u001b[39m}\n\u001b[0;32m    321\u001b[0m response \u001b[39m=\u001b[39m \u001b[39mself\u001b[39m\u001b[39m.\u001b[39msession\u001b[39m.\u001b[39mget(\u001b[39mself\u001b[39m\u001b[39m.\u001b[39mapi_url, params\u001b[39m=\u001b[39mparams)\n\u001b[1;32m--> 322\u001b[0m \u001b[39mreturn\u001b[39;00m \u001b[39mself\u001b[39;49m\u001b[39m.\u001b[39;49mvalid_response(response)\n",
      "File \u001b[1;32mc:\\Users\\mal\\Documents\\projects\\gizi\\venv\\Lib\\site-packages\\fatsecret\\fatsecret.py:138\u001b[0m, in \u001b[0;36mFatsecret.valid_response\u001b[1;34m(response)\u001b[0m\n\u001b[0;32m    136\u001b[0m message \u001b[39m=\u001b[39m response\u001b[39m.\u001b[39mjson()[key][\u001b[39m\"\u001b[39m\u001b[39mmessage\u001b[39m\u001b[39m\"\u001b[39m]\n\u001b[0;32m    137\u001b[0m \u001b[39mif\u001b[39;00m code \u001b[39m==\u001b[39m \u001b[39m2\u001b[39m:\n\u001b[1;32m--> 138\u001b[0m     \u001b[39mraise\u001b[39;00m AuthenticationError(\n\u001b[0;32m    139\u001b[0m         \u001b[39m2\u001b[39m, \u001b[39m\"\u001b[39m\u001b[39mThis api call requires an authenticated session\u001b[39m\u001b[39m\"\u001b[39m\n\u001b[0;32m    140\u001b[0m     )\n\u001b[0;32m    142\u001b[0m \u001b[39melif\u001b[39;00m code \u001b[39min\u001b[39;00m [\u001b[39m1\u001b[39m, \u001b[39m10\u001b[39m, \u001b[39m11\u001b[39m, \u001b[39m12\u001b[39m, \u001b[39m20\u001b[39m, \u001b[39m21\u001b[39m]:\n\u001b[0;32m    143\u001b[0m     \u001b[39mraise\u001b[39;00m GeneralError(code, message)\n",
      "\u001b[1;31mAuthenticationError\u001b[0m: Error 2: This api call requires an authenticated session"
     ]
    }
   ],
   "source": [
    "from fatsecret import Fatsecret\n",
    "\n",
    "# v.2\n",
    "# fs = Fatsecret('4fcce0bbb78d4ab8aac0bbc81cd0e77f', 'e209f719452647a1a5e296471faf89ad')\n",
    "fs = Fatsecret('4fcce0bbb78d4ab8aac0bbc81cd0e77f', '012438b7e597427982674affe48f90a7')\n",
    "fs.foods_get_favorites()"
   ]
  },
  {
   "cell_type": "code",
   "execution_count": 14,
   "metadata": {},
   "outputs": [],
   "source": [
    "foods = fs.foods_search(\"nasi\")"
   ]
  },
  {
   "cell_type": "code",
   "execution_count": 15,
   "metadata": {},
   "outputs": [
    {
     "data": {
      "text/plain": [
       "[{'food_description': 'Per 300g - Calories: 390kcal | Fat: 0.68g | Carbs: 85.49g | Protein: 7.43g',\n",
       "  'food_id': '14959538',\n",
       "  'food_name': 'Nasi Putih',\n",
       "  'food_type': 'Generic',\n",
       "  'food_url': 'https://www.fatsecret.com/calories-nutrition/generic/rice-nasi-putih'},\n",
       " {'brand_name': \"Trader Joe's\",\n",
       "  'food_description': 'Per 1 cup - Calories: 130kcal | Fat: 0.00g | Carbs: 28.00g | Protein: 4.00g',\n",
       "  'food_id': '60582',\n",
       "  'food_name': 'Nasi Goreng',\n",
       "  'food_type': 'Brand',\n",
       "  'food_url': 'https://www.fatsecret.com/calories-nutrition/trader-joes/nasi-goreng'},\n",
       " {'brand_name': 'Isagenix',\n",
       "  'food_description': 'Per 1 stick - Calories: 10kcal | Fat: 0.00g | Carbs: 3.00g | Protein: 0.00g',\n",
       "  'food_id': '32462697',\n",
       "  'food_name': 'AMPED Hydrate NAS - Coconut (Stick)',\n",
       "  'food_type': 'Brand',\n",
       "  'food_url': 'https://www.fatsecret.com/calories-nutrition/isagenix/amped-hydrate-nas-coconut-(stick)'},\n",
       " {'food_description': 'Per 4499g - Calories: 6527kcal | Fat: 232.26g | Carbs: 948.16g | Protein: 182.52g',\n",
       "  'food_id': '6712789',\n",
       "  'food_name': 'Nasi Lemak',\n",
       "  'food_type': 'Generic',\n",
       "  'food_url': 'https://www.fatsecret.com/calories-nutrition/generic/nasi-lemak'},\n",
       " {'brand_name': 'ANSI',\n",
       "  'food_description': 'Per 1 bottle - Calories: 20kcal | Fat: 0.00g | Carbs: 5.00g | Protein: 0.00g',\n",
       "  'food_id': '2326428',\n",
       "  'food_name': 'Xtreme Shock',\n",
       "  'food_type': 'Brand',\n",
       "  'food_url': 'https://www.fatsecret.com/calories-nutrition/ansi/xtreme-shock'},\n",
       " {'brand_name': 'Isagenix',\n",
       "  'food_description': 'Per 1 stick - Calories: 10kcal | Fat: 0.00g | Carbs: 4.00g | Protein: 0.00g',\n",
       "  'food_id': '17983251',\n",
       "  'food_name': 'AMPED Hydrate NAS - Lemon Lime (Stick)',\n",
       "  'food_type': 'Brand',\n",
       "  'food_url': 'https://www.fatsecret.com/calories-nutrition/isagenix/amped-hydrate-nas-lemon-lime-(stick)'},\n",
       " {'brand_name': 'Isagenix',\n",
       "  'food_description': 'Per 1 stick - Calories: 150kcal | Fat: 0.00g | Carbs: 5.00g | Protein: 0.00g',\n",
       "  'food_id': '17983248',\n",
       "  'food_name': 'AMPED Hydrate NAS - Orange (Stick)',\n",
       "  'food_type': 'Brand',\n",
       "  'food_url': 'https://www.fatsecret.com/calories-nutrition/isagenix/amped-hydrate-nas-orange-(stick)'},\n",
       " {'brand_name': 'Isagenix',\n",
       "  'food_description': 'Per 1 scoop - Calories: 10kcal | Fat: 0.00g | Carbs: 4.00g | Protein: 0.00g',\n",
       "  'food_id': '17983249',\n",
       "  'food_name': 'AMPED Hydrate NAS - Lemon Lime (Canister)',\n",
       "  'food_type': 'Brand',\n",
       "  'food_url': 'https://www.fatsecret.com/calories-nutrition/isagenix/amped-hydrate-nas-lemon-lime-(canister)'},\n",
       " {'brand_name': 'Isagenix',\n",
       "  'food_description': 'Per 1 scoop - Calories: 15kcal | Fat: 0.00g | Carbs: 5.00g | Protein: 0.00g',\n",
       "  'food_id': '17983245',\n",
       "  'food_name': 'AMPED Hydrate NAS - Orange (Canister)',\n",
       "  'food_type': 'Brand',\n",
       "  'food_url': 'https://www.fatsecret.com/calories-nutrition/isagenix/amped-hydrate-nas-orange-(canister)'},\n",
       " {'brand_name': 'ANSI',\n",
       "  'food_description': 'Per 1 bar - Calories: 210kcal | Fat: 8.00g | Carbs: 26.00g | Protein: 20.00g',\n",
       "  'food_id': '17023902',\n",
       "  'food_name': 'Gourmet Cheesecake Protein Bar - Chocolate Truffle',\n",
       "  'food_type': 'Brand',\n",
       "  'food_url': 'https://www.fatsecret.com/calories-nutrition/ansi/gourmet-cheesecake-protein-bar---chocolate-truffle'},\n",
       " {'brand_name': 'Isagenix',\n",
       "  'food_description': 'Per 1 scoop - Calories: 15kcal | Fat: 0.00g | Carbs: 5.00g | Protein: 0.00g',\n",
       "  'food_id': '32462728',\n",
       "  'food_name': 'AMPED Hydrate NAS - Blue Raspberry (Canister)',\n",
       "  'food_type': 'Brand',\n",
       "  'food_url': 'https://www.fatsecret.com/calories-nutrition/isagenix/amped-hydrate-nas-blue-raspberry-(canister)'},\n",
       " {'brand_name': 'Isagenix',\n",
       "  'food_description': 'Per 1 scoop - Calories: 10kcal | Fat: 0.00g | Carbs: 3.00g | Protein: 0.00g',\n",
       "  'food_id': '32462718',\n",
       "  'food_name': 'AMPED Hydrate NAS - Coconut (Canister)',\n",
       "  'food_type': 'Brand',\n",
       "  'food_url': 'https://www.fatsecret.com/calories-nutrition/isagenix/amped-hydrate-nas-coconut-(canister)'},\n",
       " {'brand_name': 'Isagenix',\n",
       "  'food_description': 'Per 1 stick - Calories: 15kcal | Fat: 0.00g | Carbs: 5.00g | Protein: 0.00g',\n",
       "  'food_id': '32462725',\n",
       "  'food_name': 'AMPED Hydrate NAS - Blue Raspberry (Stick)',\n",
       "  'food_type': 'Brand',\n",
       "  'food_url': 'https://www.fatsecret.com/calories-nutrition/isagenix/amped-hydrate-nas-blue-raspberry-(stick)'},\n",
       " {'brand_name': 'ANSI',\n",
       "  'food_description': 'Per 1 bar - Calories: 220kcal | Fat: 9.00g | Carbs: 26.00g | Protein: 20.00g',\n",
       "  'food_id': '6846911',\n",
       "  'food_name': 'Gourmet Cheesecake Protein Bar',\n",
       "  'food_type': 'Brand',\n",
       "  'food_url': 'https://www.fatsecret.com/calories-nutrition/ansi/gourmet-cheesecake-protein-bar'},\n",
       " {'brand_name': 'Parks & Nash',\n",
       "  'food_description': 'Per 1 container - Calories: 270kcal | Fat: 9.00g | Carbs: 20.00g | Protein: 24.00g',\n",
       "  'food_id': '30412084',\n",
       "  'food_name': 'Coconut Thai Bone Broth Soup',\n",
       "  'food_type': 'Brand',\n",
       "  'food_url': 'https://www.fatsecret.com/calories-nutrition/parks-nash/coconut-thai-bone-broth-soup'}]"
      ]
     },
     "execution_count": 15,
     "metadata": {},
     "output_type": "execute_result"
    }
   ],
   "source": [
    "foods"
   ]
  }
 ],
 "metadata": {
  "kernelspec": {
   "display_name": "venv",
   "language": "python",
   "name": "python3"
  },
  "language_info": {
   "codemirror_mode": {
    "name": "ipython",
    "version": 3
   },
   "file_extension": ".py",
   "mimetype": "text/x-python",
   "name": "python",
   "nbconvert_exporter": "python",
   "pygments_lexer": "ipython3",
   "version": "3.11.3"
  },
  "orig_nbformat": 4
 },
 "nbformat": 4,
 "nbformat_minor": 2
}
