{
 "cells": [
  {
   "cell_type": "markdown",
   "metadata": {},
   "source": [
    "# Installations"
   ]
  },
  {
   "cell_type": "code",
   "execution_count": null,
   "metadata": {},
   "outputs": [],
   "source": [
    "# !pip install sympy"
   ]
  },
  {
   "cell_type": "markdown",
   "metadata": {},
   "source": [
    "# Numerical Method"
   ]
  },
  {
   "cell_type": "markdown",
   "metadata": {},
   "source": [
    "## Bisection Method for Finding Equation Roots"
   ]
  },
  {
   "cell_type": "markdown",
   "metadata": {},
   "source": [
    "Cari nilai x di selang [0, 2] yang memenuhi persamaan x.sin(x) = 1."
   ]
  },
  {
   "cell_type": "code",
   "execution_count": 3,
   "metadata": {},
   "outputs": [
    {
     "name": "stdout",
     "output_type": "stream",
     "text": [
      "       n         a         b         c\n",
      "1    1.0  0.000000  2.000000  1.000000\n",
      "2    2.0  1.000000  2.000000  1.500000\n",
      "3    3.0  1.000000  1.500000  1.250000\n",
      "4    4.0  1.000000  1.250000  1.125000\n",
      "5    5.0  1.000000  1.125000  1.062500\n",
      "6    6.0  1.062500  1.125000  1.093750\n",
      "7    7.0  1.093750  1.125000  1.109375\n",
      "8    8.0  1.109375  1.125000  1.117188\n",
      "9    9.0  1.109375  1.117188  1.113281\n",
      "10  10.0  1.113281  1.117188  1.115234\n",
      "11  11.0  1.113281  1.115234  1.114258\n",
      "12  12.0  1.113281  1.114258  1.113770\n",
      "13  13.0  1.113770  1.114258  1.114014\n",
      "14  14.0  1.114014  1.114258  1.114136\n",
      "15  15.0  1.114136  1.114258  1.114197\n",
      "16  16.0  1.114136  1.114197  1.114166\n",
      "17  17.0  1.114136  1.114166  1.114151\n",
      "18  18.0  1.114151  1.114166  1.114159\n",
      "19  19.0  1.114151  1.114159  1.114155\n",
      "20  20.0  1.114155  1.114159  1.114157\n",
      "21  21.0  1.114157  1.114159  1.114158\n",
      "22  22.0  1.114157  1.114158  1.114157\n",
      "23  23.0  1.114157  1.114157  1.114157\n",
      "24  24.0  1.114157  1.114157  1.114157\n",
      "25  25.0  1.114157  1.114157  1.114157\n"
     ]
    }
   ],
   "source": [
    "import pandas as pd\n",
    "import numpy as np\n",
    "\n",
    "# Required information\n",
    "a = 0  # lower bound\n",
    "b = 2  # upper bound\n",
    "\n",
    "def f(x):\n",
    "    return x * np.sin(x) - 1  # the function from the problem\n",
    "\n",
    "iter_max = 50  # maximum allowed iterations\n",
    "tol_max = 0.00000005  # acceptable error tolerance\n",
    "\n",
    "# initial condition\n",
    "i = 1\n",
    "\n",
    "# creating a container for iteration results\n",
    "results = pd.DataFrame(columns=['n', 'a', 'b', 'c'])\n",
    "\n",
    "# iterations start here\n",
    "while i <= iter_max and (b - a) / 2 > tol_max:\n",
    "    p = a + ((b - a) / 2)  # taking the value of p, the midpoint between a and b\n",
    "    FP = f(p)  # evaluate f(p)\n",
    "    FA = f(a)  # evaluate f(a)\n",
    "    FB = f(b)  # evaluate f(b)\n",
    "    results.loc[i] = [i, a, b, p]  # store the calculation results in the container\n",
    "    if FA * FP < 0:\n",
    "        b = p\n",
    "    else:\n",
    "        a = p  # recall the bisection rule!\n",
    "    i = i + 1  # increment i for iteration\n",
    "\n",
    "print(results)\n"
   ]
  },
  {
   "cell_type": "markdown",
   "metadata": {},
   "source": [
    "## Newton Method for Finding Equation Roots"
   ]
  },
  {
   "attachments": {
    "image.png": {
     "image/png": "[encoded data removed]"
    }
   },
   "cell_type": "markdown",
   "metadata": {},
   "source": [
    "![image.png](attachment:image.png)"
   ]
  },
  {
   "cell_type": "code",
   "execution_count": 6,
   "metadata": {},
   "outputs": [
    {
     "name": "stdout",
     "output_type": "stream",
     "text": [
      "3*x**2 - 2*x\n"
     ]
    }
   ],
   "source": [
    "from sympy import symbols, diff\n",
    "\n",
    "# Define the symbol\n",
    "x = symbols('x')\n",
    "\n",
    "# Define the equation\n",
    "eq = x**3 - x**2 - 70\n",
    "\n",
    "# Differentiate the equation with respect to x\n",
    "diff_eq = diff(eq, x)\n",
    "\n",
    "# Convert the differentiated equation to a string\n",
    "diff_eq_str = str(diff_eq)\n",
    "\n",
    "print(diff_eq_str)"
   ]
  },
  {
   "cell_type": "code",
   "execution_count": 7,
   "metadata": {},
   "outputs": [
    {
     "name": "stdout",
     "output_type": "stream",
     "text": [
      "n_iter         p\n",
      "     0        10\n",
      "   1.0  7.035714\n",
      "   2.0  5.333925\n",
      "   3.0  4.620209\n",
      "   4.0  4.487392\n",
      "   5.0  4.483027\n"
     ]
    }
   ],
   "source": [
    "import pandas as pd\n",
    "import numpy as np\n",
    "\n",
    "# Define the necessary information\n",
    "x_0 = 10\n",
    "def f(x):\n",
    "    return x**3 - x**2 - 70\n",
    "\n",
    "def df(x):\n",
    "    return 3*x**2 - 2*x\n",
    "\n",
    "iter_max = 50\n",
    "tol_max = 10**-2\n",
    "\n",
    "# initial condition\n",
    "i = 1\n",
    "hasil = pd.DataFrame(columns=['n_iter', 'p'], index=[0])\n",
    "hasil.loc[0] = [0, x_0]\n",
    "\n",
    "while i <= iter_max:\n",
    "    p = x_0 - (f(x_0) / df(x_0))\n",
    "    hasil.loc[i] = [i, p]\n",
    "    if abs(p - x_0) < tol_max:\n",
    "        break\n",
    "    x_0 = p\n",
    "    i += 1\n",
    "\n",
    "# print output\n",
    "print(hasil.to_string(index=False))"
   ]
  }
 ],
 "metadata": {
  "kernelspec": {
   "display_name": "base",
   "language": "python",
   "name": "python3"
  },
  "language_info": {
   "codemirror_mode": {
    "name": "ipython",
    "version": 3
   },
   "file_extension": ".py",
   "mimetype": "text/x-python",
   "name": "python",
   "nbconvert_exporter": "python",
   "pygments_lexer": "ipython3",
   "version": "3.11.5"
  }
 },
 "nbformat": 4,
 "nbformat_minor": 2
}
