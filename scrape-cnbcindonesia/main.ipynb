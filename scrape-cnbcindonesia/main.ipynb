{
 "cells": [
  {
   "cell_type": "code",
   "execution_count": null,
   "metadata": {},
   "outputs": [],
   "source": [
    "# !pip install beautifulsoup4 sqlalchemy pendulum"
   ]
  },
  {
   "cell_type": "code",
   "execution_count": 5,
   "metadata": {},
   "outputs": [],
   "source": [
    "import requests\n",
    "from bs4 import BeautifulSoup\n",
    "import pendulum\n",
    "import pandas as pd\n",
    "from sqlalchemy import create_engine"
   ]
  },
  {
   "cell_type": "markdown",
   "metadata": {},
   "source": [
    "# DB"
   ]
  },
  {
   "cell_type": "code",
   "execution_count": 6,
   "metadata": {},
   "outputs": [],
   "source": [
    "db_params = {\n",
    "    \"dbname\": \"postgres\",\n",
    "    \"user\": \"postgres\",\n",
    "    \"password\": \"postgres\",\n",
    "    \"host\": \"localhost\",  # Change to your database host\n",
    "    \"port\": \"5432\"       # Change to your database port\n",
    "}\n",
    "db_url = f\"postgresql://{db_params['user']}:{db_params['password']}@{db_params['host']}:{db_params['port']}/{db_params['dbname']}\"\n",
    "engine = create_engine(db_url)"
   ]
  },
  {
   "cell_type": "markdown",
   "metadata": {},
   "source": [
    "# Main"
   ]
  },
  {
   "cell_type": "code",
   "execution_count": 7,
   "metadata": {},
   "outputs": [],
   "source": [
    "def get_articles(url, page_date, page_index, category_name, category_id):\n",
    "    print(url)\n",
    "    res = []\n",
    "    \n",
    "    response = requests.get(url)\n",
    "    html_code = response.text\n",
    "    soup = BeautifulSoup(html_code, 'html.parser')\n",
    "\n",
    "    articles = soup.find_all('article')\n",
    "\n",
    "    for article in articles:\n",
    "        title = article.find('h2').text.strip()\n",
    "        href = article.find('a')['href']\n",
    "        img_url = article.find('img')['src']\n",
    "\n",
    "        data = {\n",
    "            'article_date': page_date,\n",
    "            'article_page_index': page_index,\n",
    "            'article_title': title,\n",
    "            'article_href': href,\n",
    "            'article_img': img_url,\n",
    "            'category_name': category_name, \n",
    "            'category_id': category_id\n",
    "        }\n",
    "\n",
    "        res.append(data)\n",
    "    return res"
   ]
  },
  {
   "cell_type": "code",
   "execution_count": 8,
   "metadata": {},
   "outputs": [],
   "source": [
    "categories = [\n",
    "    ['market', '5'],\n",
    "    ['news', '3'],\n",
    "    ['entrepreneur', '9'],\n",
    "    ['syariah', '10'],\n",
    "    ['tech', '12'],\n",
    "    ['lifestyle', '11'],\n",
    "    ['opini', '13'],\n",
    "    ['mymoney', '71'],\n",
    "    ['cuap-cuap-cuan', '78'],\n",
    "    ['research', '127']\n",
    "]"
   ]
  },
  {
   "cell_type": "code",
   "execution_count": null,
   "metadata": {},
   "outputs": [],
   "source": [
    "df = []\n",
    "for cat in categories:\n",
    "    category_name, category_id = cat[0], cat[1]\n",
    "    \n",
    "    base_url = f'https://www.cnbcindonesia.com/{category_name}/indeks/{category_id}/'\n",
    "    start_date = pendulum.parse('2024-02-06')\n",
    "    end_date = pendulum.parse('2024-02-20')\n",
    "\n",
    "    current_date = start_date\n",
    "    while current_date <= end_date:\n",
    "        index = 1\n",
    "        while True:\n",
    "            url = f'{base_url}{index}?date={current_date.format(\"YYYY/MM/DD\")}'\n",
    "            articles = get_articles(url=url, page_date=current_date.format(\"YYYY-MM-DD\"), page_index=index, category_name=category_name, category_id=category_id)\n",
    "            if not articles:\n",
    "                print(f'Not found: {category_name} - {current_date} - {index}')\n",
    "                break\n",
    "            else:\n",
    "                print(pd.DataFrame(articles).to_sql(name='cnbc_indonesia', con=engine, schema='personal', if_exists='append', method='multi', index=False))\n",
    "            index += 1\n",
    "        current_date = current_date.add(days=1)"
   ]
  }
 ],
 "metadata": {
  "kernelspec": {
   "display_name": "base",
   "language": "python",
   "name": "python3"
  },
  "language_info": {
   "codemirror_mode": {
    "name": "ipython",
    "version": 3
   },
   "file_extension": ".py",
   "mimetype": "text/x-python",
   "name": "python",
   "nbconvert_exporter": "python",
   "pygments_lexer": "ipython3",
   "version": "3.11.5"
  }
 },
 "nbformat": 4,
 "nbformat_minor": 2
}
