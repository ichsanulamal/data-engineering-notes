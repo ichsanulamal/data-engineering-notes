{
 "cells": [
  {
   "cell_type": "code",
   "execution_count": null,
   "metadata": {},
   "outputs": [],
   "source": [
    "# !pip3 install --upgrade 'google-cloud-bigquery[bqstorage,pandas]'"
   ]
  },
  {
   "cell_type": "code",
   "execution_count": null,
   "metadata": {},
   "outputs": [],
   "source": [
    "import pandas as pd\n",
    "from datetime import datetime\n",
    "import json\n",
    "import requests\n",
    "\n",
    "categories = [\n",
    "    ['17', 'processor'],\n",
    "    ['12', 'motherboard'],\n",
    "    ['3', 'casing'],\n",
    "    ['24', 'vga'],\n",
    "    ['9', 'lcd'],\n",
    "    ['11', 'memory-ram'],\n",
    "    ['4', 'cooler'],\n",
    "    ['8', 'keyboard'],\n",
    "    ['19', 'psu'],\n",
    "    ['101', 'solid-state-drive'],\n",
    "    ['6', 'hard-disk']\n",
    "]\n",
    "\n",
    "product_list = []\n",
    "def ingest_enterkomputer(cat_id, cat):\n",
    "    \n",
    "    page_counter = 1\n",
    "    status = True\n",
    "\n",
    "    while status:\n",
    "        url = 'https://www.enterkomputer.com/jeanne/v2/product-list'\n",
    "        headers = {\n",
    "            'User-Agent': 'Mozilla/5.0 (X11; Linux x86_64; rv:124.0) Gecko/20100101 Firefox/124.0',\n",
    "            'Accept': 'application/json',\n",
    "            'Accept-Language': 'en-US,en;q=0.5',\n",
    "            'Accept-Encoding': 'gzip, deflate, br',\n",
    "            'Content-Type': 'application/json',\n",
    "            'X-Requested-With': 'XMLHttpRequest',\n",
    "            'Origin': 'https://www.enterkomputer.com',\n",
    "            'DNT': '1',\n",
    "            'Sec-GPC': '1',\n",
    "            'Connection': 'keep-alive',\n",
    "            'Referer': f'https://www.enterkomputer.com/category/{cat_id}/{cat}',\n",
    "            'Cookie': 'ess=a63e8c792788789ed3ca4488338282c2666be8f4; csrf_cookie_name=2221d451c939048e8e79b219af64d8ea',\n",
    "            'Sec-Fetch-Dest': 'empty',\n",
    "            'Sec-Fetch-Mode': 'cors',\n",
    "            'Sec-Fetch-Site': 'same-origin',\n",
    "            'TE': 'trailers'\n",
    "        }\n",
    "\n",
    "        data = {\n",
    "            \"KCODE\": cat_id,\n",
    "            \"SCODE\": \"all\",\n",
    "            \"BCODE\": \"all\",\n",
    "            \"BNAME\": \"\",\n",
    "            \"MORDR\": \"default\",\n",
    "            \"MSTGE\": \"mapping\",\n",
    "            \"MKYWD\": \"\",\n",
    "            \"MTAGS\": \"\",\n",
    "            \"MSGMN\": \"category\",\n",
    "            \"MPAGE\": page_counter,\n",
    "            \"token\": \"U2FsdGVkX1-E55sT1JEmUtTtgjHvzgK98PZU8pKsTjQf8t2cV6U0Rrrd5ijzmdtRiKOvKb944B267vLzsZdvag\",\n",
    "            \"signature\": \"54f641b51cc26b51894b06dbdb55b4b3\"\n",
    "        }\n",
    "\n",
    "        json_response = json.loads(requests.post(url, headers=headers, json=data).text)\n",
    "        print(cat, page_counter, json_response['status'])\n",
    "\n",
    "        page_counter += 1\n",
    "        status = json_response['status']\n",
    "        \n",
    "        if status:\n",
    "            products = json_response['result'][0]['PPRNT'][0]['PCHLD']\n",
    "            for p1 in products:\n",
    "                for p2 in p1['PLIST']:\n",
    "                    product_list.append(p2)"
   ]
  },
  {
   "cell_type": "code",
   "execution_count": null,
   "metadata": {},
   "outputs": [],
   "source": [
    "for cat in categories:\n",
    "    ingest_enterkomputer(cat[0], cat[1])"
   ]
  },
  {
   "cell_type": "code",
   "execution_count": null,
   "metadata": {},
   "outputs": [],
   "source": [
    "df = pd.DataFrame(product_list)\n",
    "df = df.astype(str)\n",
    "df['inserted_at'] = pd.Timestamp(datetime.now())"
   ]
  },
  {
   "cell_type": "code",
   "execution_count": null,
   "metadata": {},
   "outputs": [],
   "source": [
    "df.info()"
   ]
  },
  {
   "cell_type": "markdown",
   "metadata": {},
   "source": [
    "## To BQ"
   ]
  },
  {
   "cell_type": "code",
   "execution_count": null,
   "metadata": {},
   "outputs": [],
   "source": [
    "from google.oauth2 import service_account\n",
    "import pandas_gbq\n",
    "\n",
    "credentials = service_account.Credentials.from_service_account_file(\n",
    "    '/home/al/projects/creds/ichsanul-dev-cc6f799c9121.json', scopes=['https://www.googleapis.com/auth/cloud-platform']\n",
    ")\n",
    "# Replace with your own GCP credentials\n",
    "project_id = \"ichsanul-dev\"\n",
    "dataset_id = \"de_zoomcamp\"\n",
    "table_id = \"de_zoomcamp.enterkomputer_raw\"\n",
    "\n",
    "pandas_gbq.to_gbq(dataframe=df, credentials=credentials, destination_table=table_id, if_exists='append')"
   ]
  },
  {
   "cell_type": "markdown",
   "metadata": {},
   "source": [
    "## To PG"
   ]
  },
  {
   "cell_type": "code",
   "execution_count": null,
   "metadata": {},
   "outputs": [],
   "source": [
    "from sqlalchemy import create_engine\n",
    "db_params = {\n",
    "    \"dbname\": \"postgres\",\n",
    "    \"user\": \"postgres\",\n",
    "    \"password\": \"postgres\",\n",
    "    \"host\": \"localhost\",  # Change to your database host\n",
    "    \"port\": \"5432\"       # Change to your database port\n",
    "}\n",
    "db_url = f\"postgresql://{db_params['user']}:{db_params['password']}@{db_params['host']}:{db_params['port']}/{db_params['dbname']}\"\n",
    "engine = create_engine(db_url)"
   ]
  },
  {
   "cell_type": "code",
   "execution_count": null,
   "metadata": {},
   "outputs": [],
   "source": [
    "# df.to_sql(name='enterkomputer', con=engine, schema='personal', if_exists='append', method='multi', index=False)"
   ]
  }
 ],
 "metadata": {
  "kernelspec": {
   "display_name": "base",
   "language": "python",
   "name": "python3"
  },
  "language_info": {
   "codemirror_mode": {
    "name": "ipython",
    "version": 3
   },
   "file_extension": ".py",
   "mimetype": "text/x-python",
   "name": "python",
   "nbconvert_exporter": "python",
   "pygments_lexer": "ipython3",
   "version": "3.12.2"
  }
 },
 "nbformat": 4,
 "nbformat_minor": 2
}
